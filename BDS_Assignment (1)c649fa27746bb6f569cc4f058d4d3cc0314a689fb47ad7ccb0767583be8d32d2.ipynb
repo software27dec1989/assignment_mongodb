{
 "cells": [
  {
   "cell_type": "code",
   "execution_count": 1,
   "metadata": {
    "id": "Cyqi9dOZAhxP"
   },
   "outputs": [],
   "source": [
    "import numpy as np\n",
    "import pandas as pd\n",
    "import matplotlib.pyplot as plt\n",
    "#import plotly.express as px\n",
    "import matplotlib.pyplot as plt\n",
    "import seaborn as sns\n",
    "%matplotlib inline"
   ]
  },
  {
   "cell_type": "code",
   "execution_count": 2,
   "metadata": {
    "id": "_vxuWrvvA1q1"
   },
   "outputs": [],
   "source": [
    "country_wise = pd.read_csv(\"country_wise_latest.csv\")\n",
    "Covid_19_clean = pd.read_csv(\"covid_19_clean_complete.csv\")\n",
    "day_wise = pd.read_csv(\"day_wise.csv\")\n",
    "full_grouped = pd.read_csv(\"full_grouped.csv\")\n",
    "usa_country_wise = pd.read_csv(\"usa_county_wise.csv\")\n",
    "worldometer_data = pd.read_csv(\"worldometer_data.csv\")"
   ]
  },
  {
   "cell_type": "markdown",
   "metadata": {},
   "source": [
    "<h4>Country_wise Dataset EDA</h4>"
   ]
  },
  {
   "cell_type": "code",
   "execution_count": 3,
   "metadata": {
    "colab": {
     "base_uri": "https://localhost:8080/",
     "height": 191
    },
    "id": "drKfVogNBFiQ",
    "outputId": "a8eec6bc-99d3-4205-b1e5-9a9f527bea9b"
   },
   "outputs": [
    {
     "data": {
      "text/html": [
       "<div>\n",
       "<style scoped>\n",
       "    .dataframe tbody tr th:only-of-type {\n",
       "        vertical-align: middle;\n",
       "    }\n",
       "\n",
       "    .dataframe tbody tr th {\n",
       "        vertical-align: top;\n",
       "    }\n",
       "\n",
       "    .dataframe thead th {\n",
       "        text-align: right;\n",
       "    }\n",
       "</style>\n",
       "<table border=\"1\" class=\"dataframe\">\n",
       "  <thead>\n",
       "    <tr style=\"text-align: right;\">\n",
       "      <th></th>\n",
       "      <th>Country/Region</th>\n",
       "      <th>Confirmed</th>\n",
       "      <th>Deaths</th>\n",
       "      <th>Recovered</th>\n",
       "      <th>Active</th>\n",
       "      <th>New cases</th>\n",
       "      <th>New deaths</th>\n",
       "      <th>New recovered</th>\n",
       "      <th>Deaths / 100 Cases</th>\n",
       "      <th>Recovered / 100 Cases</th>\n",
       "      <th>Deaths / 100 Recovered</th>\n",
       "      <th>Confirmed last week</th>\n",
       "      <th>1 week change</th>\n",
       "      <th>1 week % increase</th>\n",
       "      <th>WHO Region</th>\n",
       "    </tr>\n",
       "  </thead>\n",
       "  <tbody>\n",
       "    <tr>\n",
       "      <th>0</th>\n",
       "      <td>Afghanistan</td>\n",
       "      <td>36263</td>\n",
       "      <td>1269</td>\n",
       "      <td>25198</td>\n",
       "      <td>9796</td>\n",
       "      <td>106</td>\n",
       "      <td>10</td>\n",
       "      <td>18</td>\n",
       "      <td>3.50</td>\n",
       "      <td>69.49</td>\n",
       "      <td>5.04</td>\n",
       "      <td>35526</td>\n",
       "      <td>737</td>\n",
       "      <td>2.07</td>\n",
       "      <td>Eastern Mediterranean</td>\n",
       "    </tr>\n",
       "    <tr>\n",
       "      <th>1</th>\n",
       "      <td>Albania</td>\n",
       "      <td>4880</td>\n",
       "      <td>144</td>\n",
       "      <td>2745</td>\n",
       "      <td>1991</td>\n",
       "      <td>117</td>\n",
       "      <td>6</td>\n",
       "      <td>63</td>\n",
       "      <td>2.95</td>\n",
       "      <td>56.25</td>\n",
       "      <td>5.25</td>\n",
       "      <td>4171</td>\n",
       "      <td>709</td>\n",
       "      <td>17.00</td>\n",
       "      <td>Europe</td>\n",
       "    </tr>\n",
       "  </tbody>\n",
       "</table>\n",
       "</div>"
      ],
      "text/plain": [
       "  Country/Region  Confirmed  Deaths  Recovered  Active  New cases  New deaths  \\\n",
       "0    Afghanistan      36263    1269      25198    9796        106          10   \n",
       "1        Albania       4880     144       2745    1991        117           6   \n",
       "\n",
       "   New recovered  Deaths / 100 Cases  Recovered / 100 Cases  \\\n",
       "0             18                3.50                  69.49   \n",
       "1             63                2.95                  56.25   \n",
       "\n",
       "   Deaths / 100 Recovered  Confirmed last week  1 week change  \\\n",
       "0                    5.04                35526            737   \n",
       "1                    5.25                 4171            709   \n",
       "\n",
       "   1 week % increase             WHO Region  \n",
       "0               2.07  Eastern Mediterranean  \n",
       "1              17.00                 Europe  "
      ]
     },
     "execution_count": 3,
     "metadata": {},
     "output_type": "execute_result"
    }
   ],
   "source": [
    "country_wise.head(2)"
   ]
  },
  {
   "cell_type": "code",
   "execution_count": 4,
   "metadata": {
    "colab": {
     "base_uri": "https://localhost:8080/"
    },
    "id": "Lx03oS0oEM1O",
    "outputId": "7ec6f407-500f-4f23-aa60-a0d2048ad714"
   },
   "outputs": [
    {
     "name": "stdout",
     "output_type": "stream",
     "text": [
      "Shape of country_wise Data = (187, 15)\n",
      "Columns Name =\n",
      " Index(['Country/Region', 'Confirmed', 'Deaths', 'Recovered', 'Active',\n",
      "       'New cases', 'New deaths', 'New recovered', 'Deaths / 100 Cases',\n",
      "       'Recovered / 100 Cases', 'Deaths / 100 Recovered',\n",
      "       'Confirmed last week', '1 week change', '1 week % increase',\n",
      "       'WHO Region'],\n",
      "      dtype='object')\n",
      "\n",
      " Data Information\n",
      "<class 'pandas.core.frame.DataFrame'>\n",
      "RangeIndex: 187 entries, 0 to 186\n",
      "Data columns (total 15 columns):\n",
      " #   Column                  Non-Null Count  Dtype  \n",
      "---  ------                  --------------  -----  \n",
      " 0   Country/Region          187 non-null    object \n",
      " 1   Confirmed               187 non-null    int64  \n",
      " 2   Deaths                  187 non-null    int64  \n",
      " 3   Recovered               187 non-null    int64  \n",
      " 4   Active                  187 non-null    int64  \n",
      " 5   New cases               187 non-null    int64  \n",
      " 6   New deaths              187 non-null    int64  \n",
      " 7   New recovered           187 non-null    int64  \n",
      " 8   Deaths / 100 Cases      187 non-null    float64\n",
      " 9   Recovered / 100 Cases   187 non-null    float64\n",
      " 10  Deaths / 100 Recovered  187 non-null    float64\n",
      " 11  Confirmed last week     187 non-null    int64  \n",
      " 12  1 week change           187 non-null    int64  \n",
      " 13  1 week % increase       187 non-null    float64\n",
      " 14  WHO Region              187 non-null    object \n",
      "dtypes: float64(4), int64(9), object(2)\n",
      "memory usage: 22.0+ KB\n"
     ]
    }
   ],
   "source": [
    "# Shape and Information of the dataset\n",
    "print(\"Shape of country_wise Data = {}\".format(country_wise.shape))\n",
    "print(\"Columns Name =\\n\", country_wise.columns)\n",
    "print(\"\\n Data Information\")\n",
    "country_wise.info()"
   ]
  },
  {
   "cell_type": "code",
   "execution_count": 5,
   "metadata": {
    "colab": {
     "base_uri": "https://localhost:8080/",
     "height": 457
    },
    "id": "ff-CJpJH6s1c",
    "outputId": "f58029a1-cee6-4b91-cf45-2924f067b397"
   },
   "outputs": [
    {
     "data": {
      "text/html": [
       "<div>\n",
       "<style scoped>\n",
       "    .dataframe tbody tr th:only-of-type {\n",
       "        vertical-align: middle;\n",
       "    }\n",
       "\n",
       "    .dataframe tbody tr th {\n",
       "        vertical-align: top;\n",
       "    }\n",
       "\n",
       "    .dataframe thead th {\n",
       "        text-align: right;\n",
       "    }\n",
       "</style>\n",
       "<table border=\"1\" class=\"dataframe\">\n",
       "  <thead>\n",
       "    <tr style=\"text-align: right;\">\n",
       "      <th></th>\n",
       "      <th>count</th>\n",
       "      <th>mean</th>\n",
       "      <th>std</th>\n",
       "      <th>min</th>\n",
       "      <th>25%</th>\n",
       "      <th>50%</th>\n",
       "      <th>75%</th>\n",
       "      <th>max</th>\n",
       "    </tr>\n",
       "  </thead>\n",
       "  <tbody>\n",
       "    <tr>\n",
       "      <th>Confirmed</th>\n",
       "      <td>187.0</td>\n",
       "      <td>88130.935829</td>\n",
       "      <td>383318.663831</td>\n",
       "      <td>10.00</td>\n",
       "      <td>1114.000</td>\n",
       "      <td>5059.00</td>\n",
       "      <td>40460.500</td>\n",
       "      <td>4290259.00</td>\n",
       "    </tr>\n",
       "    <tr>\n",
       "      <th>Deaths</th>\n",
       "      <td>187.0</td>\n",
       "      <td>3497.518717</td>\n",
       "      <td>14100.002482</td>\n",
       "      <td>0.00</td>\n",
       "      <td>18.500</td>\n",
       "      <td>108.00</td>\n",
       "      <td>734.000</td>\n",
       "      <td>148011.00</td>\n",
       "    </tr>\n",
       "    <tr>\n",
       "      <th>Recovered</th>\n",
       "      <td>187.0</td>\n",
       "      <td>50631.481283</td>\n",
       "      <td>190188.189643</td>\n",
       "      <td>0.00</td>\n",
       "      <td>626.500</td>\n",
       "      <td>2815.00</td>\n",
       "      <td>22606.000</td>\n",
       "      <td>1846641.00</td>\n",
       "    </tr>\n",
       "    <tr>\n",
       "      <th>Active</th>\n",
       "      <td>187.0</td>\n",
       "      <td>34001.935829</td>\n",
       "      <td>213326.173371</td>\n",
       "      <td>0.00</td>\n",
       "      <td>141.500</td>\n",
       "      <td>1600.00</td>\n",
       "      <td>9149.000</td>\n",
       "      <td>2816444.00</td>\n",
       "    </tr>\n",
       "    <tr>\n",
       "      <th>New cases</th>\n",
       "      <td>187.0</td>\n",
       "      <td>1222.957219</td>\n",
       "      <td>5710.374790</td>\n",
       "      <td>0.00</td>\n",
       "      <td>4.000</td>\n",
       "      <td>49.00</td>\n",
       "      <td>419.500</td>\n",
       "      <td>56336.00</td>\n",
       "    </tr>\n",
       "    <tr>\n",
       "      <th>New deaths</th>\n",
       "      <td>187.0</td>\n",
       "      <td>28.957219</td>\n",
       "      <td>120.037173</td>\n",
       "      <td>0.00</td>\n",
       "      <td>0.000</td>\n",
       "      <td>1.00</td>\n",
       "      <td>6.000</td>\n",
       "      <td>1076.00</td>\n",
       "    </tr>\n",
       "    <tr>\n",
       "      <th>New recovered</th>\n",
       "      <td>187.0</td>\n",
       "      <td>933.812834</td>\n",
       "      <td>4197.719635</td>\n",
       "      <td>0.00</td>\n",
       "      <td>0.000</td>\n",
       "      <td>22.00</td>\n",
       "      <td>221.000</td>\n",
       "      <td>33728.00</td>\n",
       "    </tr>\n",
       "    <tr>\n",
       "      <th>Deaths / 100 Cases</th>\n",
       "      <td>187.0</td>\n",
       "      <td>3.019519</td>\n",
       "      <td>3.454302</td>\n",
       "      <td>0.00</td>\n",
       "      <td>0.945</td>\n",
       "      <td>2.15</td>\n",
       "      <td>3.875</td>\n",
       "      <td>28.56</td>\n",
       "    </tr>\n",
       "    <tr>\n",
       "      <th>Recovered / 100 Cases</th>\n",
       "      <td>187.0</td>\n",
       "      <td>64.820535</td>\n",
       "      <td>26.287694</td>\n",
       "      <td>0.00</td>\n",
       "      <td>48.770</td>\n",
       "      <td>71.32</td>\n",
       "      <td>86.885</td>\n",
       "      <td>100.00</td>\n",
       "    </tr>\n",
       "    <tr>\n",
       "      <th>Deaths / 100 Recovered</th>\n",
       "      <td>187.0</td>\n",
       "      <td>39.473850</td>\n",
       "      <td>332.178192</td>\n",
       "      <td>0.00</td>\n",
       "      <td>1.295</td>\n",
       "      <td>3.51</td>\n",
       "      <td>6.190</td>\n",
       "      <td>3259.26</td>\n",
       "    </tr>\n",
       "    <tr>\n",
       "      <th>Confirmed last week</th>\n",
       "      <td>187.0</td>\n",
       "      <td>78682.475936</td>\n",
       "      <td>338273.676567</td>\n",
       "      <td>10.00</td>\n",
       "      <td>1051.500</td>\n",
       "      <td>5020.00</td>\n",
       "      <td>37080.500</td>\n",
       "      <td>3834677.00</td>\n",
       "    </tr>\n",
       "    <tr>\n",
       "      <th>1 week change</th>\n",
       "      <td>187.0</td>\n",
       "      <td>9448.459893</td>\n",
       "      <td>47491.127684</td>\n",
       "      <td>-47.00</td>\n",
       "      <td>49.000</td>\n",
       "      <td>432.00</td>\n",
       "      <td>3172.000</td>\n",
       "      <td>455582.00</td>\n",
       "    </tr>\n",
       "    <tr>\n",
       "      <th>1 week % increase</th>\n",
       "      <td>187.0</td>\n",
       "      <td>13.606203</td>\n",
       "      <td>24.509838</td>\n",
       "      <td>-3.84</td>\n",
       "      <td>2.775</td>\n",
       "      <td>6.89</td>\n",
       "      <td>16.855</td>\n",
       "      <td>226.32</td>\n",
       "    </tr>\n",
       "  </tbody>\n",
       "</table>\n",
       "</div>"
      ],
      "text/plain": [
       "                        count          mean            std    min       25%  \\\n",
       "Confirmed               187.0  88130.935829  383318.663831  10.00  1114.000   \n",
       "Deaths                  187.0   3497.518717   14100.002482   0.00    18.500   \n",
       "Recovered               187.0  50631.481283  190188.189643   0.00   626.500   \n",
       "Active                  187.0  34001.935829  213326.173371   0.00   141.500   \n",
       "New cases               187.0   1222.957219    5710.374790   0.00     4.000   \n",
       "New deaths              187.0     28.957219     120.037173   0.00     0.000   \n",
       "New recovered           187.0    933.812834    4197.719635   0.00     0.000   \n",
       "Deaths / 100 Cases      187.0      3.019519       3.454302   0.00     0.945   \n",
       "Recovered / 100 Cases   187.0     64.820535      26.287694   0.00    48.770   \n",
       "Deaths / 100 Recovered  187.0     39.473850     332.178192   0.00     1.295   \n",
       "Confirmed last week     187.0  78682.475936  338273.676567  10.00  1051.500   \n",
       "1 week change           187.0   9448.459893   47491.127684 -47.00    49.000   \n",
       "1 week % increase       187.0     13.606203      24.509838  -3.84     2.775   \n",
       "\n",
       "                            50%        75%         max  \n",
       "Confirmed               5059.00  40460.500  4290259.00  \n",
       "Deaths                   108.00    734.000   148011.00  \n",
       "Recovered               2815.00  22606.000  1846641.00  \n",
       "Active                  1600.00   9149.000  2816444.00  \n",
       "New cases                 49.00    419.500    56336.00  \n",
       "New deaths                 1.00      6.000     1076.00  \n",
       "New recovered             22.00    221.000    33728.00  \n",
       "Deaths / 100 Cases         2.15      3.875       28.56  \n",
       "Recovered / 100 Cases     71.32     86.885      100.00  \n",
       "Deaths / 100 Recovered     3.51      6.190     3259.26  \n",
       "Confirmed last week     5020.00  37080.500  3834677.00  \n",
       "1 week change            432.00   3172.000   455582.00  \n",
       "1 week % increase          6.89     16.855      226.32  "
      ]
     },
     "execution_count": 5,
     "metadata": {},
     "output_type": "execute_result"
    }
   ],
   "source": [
    "#Describe of the dataset\n",
    "country_wise.describe().T"
   ]
  },
  {
   "cell_type": "code",
   "execution_count": 6,
   "metadata": {
    "colab": {
     "base_uri": "https://localhost:8080/",
     "height": 520
    },
    "id": "KIclrvll66OO",
    "outputId": "5a1d8b82-3f4c-404f-f8c2-18c7c4d47d0e"
   },
   "outputs": [
    {
     "data": {
      "text/html": [
       "<div>\n",
       "<style scoped>\n",
       "    .dataframe tbody tr th:only-of-type {\n",
       "        vertical-align: middle;\n",
       "    }\n",
       "\n",
       "    .dataframe tbody tr th {\n",
       "        vertical-align: top;\n",
       "    }\n",
       "\n",
       "    .dataframe thead th {\n",
       "        text-align: right;\n",
       "    }\n",
       "</style>\n",
       "<table border=\"1\" class=\"dataframe\">\n",
       "  <thead>\n",
       "    <tr style=\"text-align: right;\">\n",
       "      <th></th>\n",
       "      <th>Unique value count</th>\n",
       "    </tr>\n",
       "  </thead>\n",
       "  <tbody>\n",
       "    <tr>\n",
       "      <th>Country/Region</th>\n",
       "      <td>187</td>\n",
       "    </tr>\n",
       "    <tr>\n",
       "      <th>Confirmed</th>\n",
       "      <td>184</td>\n",
       "    </tr>\n",
       "    <tr>\n",
       "      <th>Deaths</th>\n",
       "      <td>150</td>\n",
       "    </tr>\n",
       "    <tr>\n",
       "      <th>Recovered</th>\n",
       "      <td>178</td>\n",
       "    </tr>\n",
       "    <tr>\n",
       "      <th>Active</th>\n",
       "      <td>173</td>\n",
       "    </tr>\n",
       "    <tr>\n",
       "      <th>New cases</th>\n",
       "      <td>122</td>\n",
       "    </tr>\n",
       "    <tr>\n",
       "      <th>New deaths</th>\n",
       "      <td>38</td>\n",
       "    </tr>\n",
       "    <tr>\n",
       "      <th>New recovered</th>\n",
       "      <td>103</td>\n",
       "    </tr>\n",
       "    <tr>\n",
       "      <th>Deaths / 100 Cases</th>\n",
       "      <td>145</td>\n",
       "    </tr>\n",
       "    <tr>\n",
       "      <th>Recovered / 100 Cases</th>\n",
       "      <td>177</td>\n",
       "    </tr>\n",
       "    <tr>\n",
       "      <th>Deaths / 100 Recovered</th>\n",
       "      <td>154</td>\n",
       "    </tr>\n",
       "    <tr>\n",
       "      <th>Confirmed last week</th>\n",
       "      <td>183</td>\n",
       "    </tr>\n",
       "    <tr>\n",
       "      <th>1 week change</th>\n",
       "      <td>162</td>\n",
       "    </tr>\n",
       "    <tr>\n",
       "      <th>1 week % increase</th>\n",
       "      <td>169</td>\n",
       "    </tr>\n",
       "    <tr>\n",
       "      <th>WHO Region</th>\n",
       "      <td>6</td>\n",
       "    </tr>\n",
       "  </tbody>\n",
       "</table>\n",
       "</div>"
      ],
      "text/plain": [
       "                        Unique value count\n",
       "Country/Region                         187\n",
       "Confirmed                              184\n",
       "Deaths                                 150\n",
       "Recovered                              178\n",
       "Active                                 173\n",
       "New cases                              122\n",
       "New deaths                              38\n",
       "New recovered                          103\n",
       "Deaths / 100 Cases                     145\n",
       "Recovered / 100 Cases                  177\n",
       "Deaths / 100 Recovered                 154\n",
       "Confirmed last week                    183\n",
       "1 week change                          162\n",
       "1 week % increase                      169\n",
       "WHO Region                               6"
      ]
     },
     "execution_count": 6,
     "metadata": {},
     "output_type": "execute_result"
    }
   ],
   "source": [
    "#Unique Values counts \n",
    "unique_values = {}\n",
    "for col in country_wise.columns:\n",
    "  unique_values[col] = country_wise[col].value_counts().shape[0]\n",
    "\n",
    "pd.DataFrame(unique_values, index =['Unique value count']).T"
   ]
  },
  {
   "cell_type": "code",
   "execution_count": 7,
   "metadata": {
    "colab": {
     "base_uri": "https://localhost:8080/"
    },
    "id": "wAuYO8zy66Lo",
    "outputId": "54e832a2-68d1-4fb5-d4de-eea01085514b"
   },
   "outputs": [
    {
     "data": {
      "text/plain": [
       "(187, 15)"
      ]
     },
     "execution_count": 7,
     "metadata": {},
     "output_type": "execute_result"
    }
   ],
   "source": [
    "#Shape of the dataset\n",
    "country_wise.shape"
   ]
  },
  {
   "cell_type": "code",
   "execution_count": 8,
   "metadata": {
    "colab": {
     "base_uri": "https://localhost:8080/"
    },
    "id": "__WOujkK66JW",
    "outputId": "18ded36d-5400-40b9-a94d-bd588758a18e"
   },
   "outputs": [
    {
     "name": "stdout",
     "output_type": "stream",
     "text": [
      "Duplicate rows  0\n"
     ]
    }
   ],
   "source": [
    "#Duplicate checking\n",
    "duplicates = country_wise[country_wise.duplicated(keep = 'first')]\n",
    "print(\"Duplicate rows \",len(duplicates))"
   ]
  },
  {
   "cell_type": "code",
   "execution_count": 9,
   "metadata": {
    "colab": {
     "base_uri": "https://localhost:8080/",
     "height": 606
    },
    "id": "ZTNAj9io656m",
    "outputId": "5c866525-b84f-49b5-d3b8-d5f57fcaba6a"
   },
   "outputs": [
    {
     "data": {
      "image/png": "[encoded data removed]",
      "text/plain": [
       "<Figure size 720x360 with 1 Axes>"
      ]
     },
     "metadata": {
      "needs_background": "light"
     },
     "output_type": "display_data"
    }
   ],
   "source": [
    "#Visualization of the two varaible \n",
    "Who_region =[country_wise[\"WHO Region\"]] \n",
    "New_cases = [country_wise[\"New cases\"]]\n",
    "data={'Who_region':country_wise[\"WHO Region\"],\n",
    "      'New_cases':country_wise[\"New cases\"],\n",
    "      'country':country_wise[\"Country/Region\"]}\n",
    "  \n",
    "# Load data into DataFrame\n",
    "df = pd.DataFrame(data = data);\n",
    "df.plot.scatter(x = 'Who_region', y = 'New_cases',c='red',colormap='viridis',figsize=(10, 5));"
   ]
  },
  {
   "cell_type": "code",
   "execution_count": 10,
   "metadata": {
    "id": "5otYSRhZ65wV"
   },
   "outputs": [
    {
     "data": {
      "text/plain": [
       "['Confirmed',\n",
       " 'Deaths',\n",
       " 'Recovered',\n",
       " 'Active',\n",
       " 'New cases',\n",
       " 'New deaths',\n",
       " 'New recovered',\n",
       " 'Deaths / 100 Cases',\n",
       " 'Recovered / 100 Cases',\n",
       " 'Deaths / 100 Recovered',\n",
       " 'Confirmed last week',\n",
       " '1 week change',\n",
       " '1 week % increase']"
      ]
     },
     "execution_count": 10,
     "metadata": {},
     "output_type": "execute_result"
    }
   ],
   "source": [
    "#numeric columns\n",
    "numeric_columns = list(country_wise.select_dtypes(include=np.number).columns)\n",
    "numeric_columns"
   ]
  },
  {
   "cell_type": "code",
   "execution_count": 11,
   "metadata": {
    "id": "5XMGmW6Oz4d-"
   },
   "outputs": [
    {
     "data": {
      "text/plain": [
       "array([[<AxesSubplot:title={'center':'Confirmed'}>,\n",
       "        <AxesSubplot:title={'center':'Deaths'}>,\n",
       "        <AxesSubplot:title={'center':'Recovered'}>,\n",
       "        <AxesSubplot:title={'center':'Active'}>],\n",
       "       [<AxesSubplot:title={'center':'New cases'}>,\n",
       "        <AxesSubplot:title={'center':'New deaths'}>,\n",
       "        <AxesSubplot:title={'center':'New recovered'}>,\n",
       "        <AxesSubplot:title={'center':'Deaths / 100 Cases'}>],\n",
       "       [<AxesSubplot:title={'center':'Recovered / 100 Cases'}>,\n",
       "        <AxesSubplot:title={'center':'Deaths / 100 Recovered'}>,\n",
       "        <AxesSubplot:title={'center':'Confirmed last week'}>,\n",
       "        <AxesSubplot:title={'center':'1 week change'}>],\n",
       "       [<AxesSubplot:title={'center':'1 week % increase'}>,\n",
       "        <AxesSubplot:>, <AxesSubplot:>, <AxesSubplot:>]], dtype=object)"
      ]
     },
     "execution_count": 11,
     "metadata": {},
     "output_type": "execute_result"
    },
    {
     "data": {
      "image/png": "[encoded data removed]",
      "text/plain": [
       "<Figure size 1440x1080 with 16 Axes>"
      ]
     },
     "metadata": {
      "needs_background": "light"
     },
     "output_type": "display_data"
    }
   ],
   "source": [
    "country_wise.hist(figsize=(20,15))"
   ]
  },
  {
   "cell_type": "markdown",
   "metadata": {
    "id": "UFkWDTDBz4ba"
   },
   "source": [
    "<h4>Covid_19_clean EDA</h4>"
   ]
  },
  {
   "cell_type": "code",
   "execution_count": 12,
   "metadata": {
    "id": "EeCbgV42z4Y8"
   },
   "outputs": [
    {
     "data": {
      "text/html": [
       "<div>\n",
       "<style scoped>\n",
       "    .dataframe tbody tr th:only-of-type {\n",
       "        vertical-align: middle;\n",
       "    }\n",
       "\n",
       "    .dataframe tbody tr th {\n",
       "        vertical-align: top;\n",
       "    }\n",
       "\n",
       "    .dataframe thead th {\n",
       "        text-align: right;\n",
       "    }\n",
       "</style>\n",
       "<table border=\"1\" class=\"dataframe\">\n",
       "  <thead>\n",
       "    <tr style=\"text-align: right;\">\n",
       "      <th></th>\n",
       "      <th>Province/State</th>\n",
       "      <th>Country/Region</th>\n",
       "      <th>Lat</th>\n",
       "      <th>Long</th>\n",
       "      <th>Date</th>\n",
       "      <th>Confirmed</th>\n",
       "      <th>Deaths</th>\n",
       "      <th>Recovered</th>\n",
       "      <th>Active</th>\n",
       "      <th>WHO Region</th>\n",
       "    </tr>\n",
       "  </thead>\n",
       "  <tbody>\n",
       "    <tr>\n",
       "      <th>0</th>\n",
       "      <td>NaN</td>\n",
       "      <td>Afghanistan</td>\n",
       "      <td>33.93911</td>\n",
       "      <td>67.709953</td>\n",
       "      <td>2020-01-22</td>\n",
       "      <td>0</td>\n",
       "      <td>0</td>\n",
       "      <td>0</td>\n",
       "      <td>0</td>\n",
       "      <td>Eastern Mediterranean</td>\n",
       "    </tr>\n",
       "    <tr>\n",
       "      <th>1</th>\n",
       "      <td>NaN</td>\n",
       "      <td>Albania</td>\n",
       "      <td>41.15330</td>\n",
       "      <td>20.168300</td>\n",
       "      <td>2020-01-22</td>\n",
       "      <td>0</td>\n",
       "      <td>0</td>\n",
       "      <td>0</td>\n",
       "      <td>0</td>\n",
       "      <td>Europe</td>\n",
       "    </tr>\n",
       "    <tr>\n",
       "      <th>2</th>\n",
       "      <td>NaN</td>\n",
       "      <td>Algeria</td>\n",
       "      <td>28.03390</td>\n",
       "      <td>1.659600</td>\n",
       "      <td>2020-01-22</td>\n",
       "      <td>0</td>\n",
       "      <td>0</td>\n",
       "      <td>0</td>\n",
       "      <td>0</td>\n",
       "      <td>Africa</td>\n",
       "    </tr>\n",
       "    <tr>\n",
       "      <th>3</th>\n",
       "      <td>NaN</td>\n",
       "      <td>Andorra</td>\n",
       "      <td>42.50630</td>\n",
       "      <td>1.521800</td>\n",
       "      <td>2020-01-22</td>\n",
       "      <td>0</td>\n",
       "      <td>0</td>\n",
       "      <td>0</td>\n",
       "      <td>0</td>\n",
       "      <td>Europe</td>\n",
       "    </tr>\n",
       "    <tr>\n",
       "      <th>4</th>\n",
       "      <td>NaN</td>\n",
       "      <td>Angola</td>\n",
       "      <td>-11.20270</td>\n",
       "      <td>17.873900</td>\n",
       "      <td>2020-01-22</td>\n",
       "      <td>0</td>\n",
       "      <td>0</td>\n",
       "      <td>0</td>\n",
       "      <td>0</td>\n",
       "      <td>Africa</td>\n",
       "    </tr>\n",
       "  </tbody>\n",
       "</table>\n",
       "</div>"
      ],
      "text/plain": [
       "  Province/State Country/Region       Lat       Long        Date  Confirmed  \\\n",
       "0            NaN    Afghanistan  33.93911  67.709953  2020-01-22          0   \n",
       "1            NaN        Albania  41.15330  20.168300  2020-01-22          0   \n",
       "2            NaN        Algeria  28.03390   1.659600  2020-01-22          0   \n",
       "3            NaN        Andorra  42.50630   1.521800  2020-01-22          0   \n",
       "4            NaN         Angola -11.20270  17.873900  2020-01-22          0   \n",
       "\n",
       "   Deaths  Recovered  Active             WHO Region  \n",
       "0       0          0       0  Eastern Mediterranean  \n",
       "1       0          0       0                 Europe  \n",
       "2       0          0       0                 Africa  \n",
       "3       0          0       0                 Europe  \n",
       "4       0          0       0                 Africa  "
      ]
     },
     "execution_count": 12,
     "metadata": {},
     "output_type": "execute_result"
    }
   ],
   "source": [
    "Covid_19_clean.head()"
   ]
  },
  {
   "cell_type": "code",
   "execution_count": 13,
   "metadata": {
    "id": "-WKWPC7sz4VV"
   },
   "outputs": [
    {
     "name": "stdout",
     "output_type": "stream",
     "text": [
      "Shape of country_wise Data = (49068, 10)\n",
      "Columns Name =\n",
      " Index(['Province/State', 'Country/Region', 'Lat', 'Long', 'Date', 'Confirmed',\n",
      "       'Deaths', 'Recovered', 'Active', 'WHO Region'],\n",
      "      dtype='object')\n",
      "\n",
      " Data Information\n",
      "<class 'pandas.core.frame.DataFrame'>\n",
      "RangeIndex: 49068 entries, 0 to 49067\n",
      "Data columns (total 10 columns):\n",
      " #   Column          Non-Null Count  Dtype  \n",
      "---  ------          --------------  -----  \n",
      " 0   Province/State  14664 non-null  object \n",
      " 1   Country/Region  49068 non-null  object \n",
      " 2   Lat             49068 non-null  float64\n",
      " 3   Long            49068 non-null  float64\n",
      " 4   Date            49068 non-null  object \n",
      " 5   Confirmed       49068 non-null  int64  \n",
      " 6   Deaths          49068 non-null  int64  \n",
      " 7   Recovered       49068 non-null  int64  \n",
      " 8   Active          49068 non-null  int64  \n",
      " 9   WHO Region      49068 non-null  object \n",
      "dtypes: float64(2), int64(4), object(4)\n",
      "memory usage: 3.7+ MB\n"
     ]
    }
   ],
   "source": [
    "# Shape and Information of the dataset\n",
    "print(\"Shape of country_wise Data = {}\".format(Covid_19_clean.shape))\n",
    "print(\"Columns Name =\\n\", Covid_19_clean.columns)\n",
    "print(\"\\n Data Information\")\n",
    "Covid_19_clean.info()"
   ]
  },
  {
   "cell_type": "code",
   "execution_count": 14,
   "metadata": {},
   "outputs": [
    {
     "data": {
      "text/html": [
       "<div>\n",
       "<style scoped>\n",
       "    .dataframe tbody tr th:only-of-type {\n",
       "        vertical-align: middle;\n",
       "    }\n",
       "\n",
       "    .dataframe tbody tr th {\n",
       "        vertical-align: top;\n",
       "    }\n",
       "\n",
       "    .dataframe thead th {\n",
       "        text-align: right;\n",
       "    }\n",
       "</style>\n",
       "<table border=\"1\" class=\"dataframe\">\n",
       "  <thead>\n",
       "    <tr style=\"text-align: right;\">\n",
       "      <th></th>\n",
       "      <th>count</th>\n",
       "      <th>mean</th>\n",
       "      <th>std</th>\n",
       "      <th>min</th>\n",
       "      <th>25%</th>\n",
       "      <th>50%</th>\n",
       "      <th>75%</th>\n",
       "      <th>max</th>\n",
       "    </tr>\n",
       "  </thead>\n",
       "  <tbody>\n",
       "    <tr>\n",
       "      <th>Lat</th>\n",
       "      <td>49068.0</td>\n",
       "      <td>21.433730</td>\n",
       "      <td>24.950320</td>\n",
       "      <td>-51.7963</td>\n",
       "      <td>7.873054</td>\n",
       "      <td>23.6345</td>\n",
       "      <td>41.204380</td>\n",
       "      <td>7.170690e+01</td>\n",
       "    </tr>\n",
       "    <tr>\n",
       "      <th>Long</th>\n",
       "      <td>49068.0</td>\n",
       "      <td>23.528236</td>\n",
       "      <td>70.442740</td>\n",
       "      <td>-135.0000</td>\n",
       "      <td>-15.310100</td>\n",
       "      <td>21.7453</td>\n",
       "      <td>80.771797</td>\n",
       "      <td>1.780650e+02</td>\n",
       "    </tr>\n",
       "    <tr>\n",
       "      <th>Confirmed</th>\n",
       "      <td>49068.0</td>\n",
       "      <td>16884.904255</td>\n",
       "      <td>127300.205272</td>\n",
       "      <td>0.0000</td>\n",
       "      <td>4.000000</td>\n",
       "      <td>168.0000</td>\n",
       "      <td>1518.250000</td>\n",
       "      <td>4.290259e+06</td>\n",
       "    </tr>\n",
       "    <tr>\n",
       "      <th>Deaths</th>\n",
       "      <td>49068.0</td>\n",
       "      <td>884.179160</td>\n",
       "      <td>6313.584411</td>\n",
       "      <td>0.0000</td>\n",
       "      <td>0.000000</td>\n",
       "      <td>2.0000</td>\n",
       "      <td>30.000000</td>\n",
       "      <td>1.480110e+05</td>\n",
       "    </tr>\n",
       "    <tr>\n",
       "      <th>Recovered</th>\n",
       "      <td>49068.0</td>\n",
       "      <td>7915.713479</td>\n",
       "      <td>54800.918731</td>\n",
       "      <td>0.0000</td>\n",
       "      <td>0.000000</td>\n",
       "      <td>29.0000</td>\n",
       "      <td>666.000000</td>\n",
       "      <td>1.846641e+06</td>\n",
       "    </tr>\n",
       "    <tr>\n",
       "      <th>Active</th>\n",
       "      <td>49068.0</td>\n",
       "      <td>8085.011617</td>\n",
       "      <td>76258.903026</td>\n",
       "      <td>-14.0000</td>\n",
       "      <td>0.000000</td>\n",
       "      <td>26.0000</td>\n",
       "      <td>606.000000</td>\n",
       "      <td>2.816444e+06</td>\n",
       "    </tr>\n",
       "  </tbody>\n",
       "</table>\n",
       "</div>"
      ],
      "text/plain": [
       "             count          mean            std       min        25%  \\\n",
       "Lat        49068.0     21.433730      24.950320  -51.7963   7.873054   \n",
       "Long       49068.0     23.528236      70.442740 -135.0000 -15.310100   \n",
       "Confirmed  49068.0  16884.904255  127300.205272    0.0000   4.000000   \n",
       "Deaths     49068.0    884.179160    6313.584411    0.0000   0.000000   \n",
       "Recovered  49068.0   7915.713479   54800.918731    0.0000   0.000000   \n",
       "Active     49068.0   8085.011617   76258.903026  -14.0000   0.000000   \n",
       "\n",
       "                50%          75%           max  \n",
       "Lat         23.6345    41.204380  7.170690e+01  \n",
       "Long        21.7453    80.771797  1.780650e+02  \n",
       "Confirmed  168.0000  1518.250000  4.290259e+06  \n",
       "Deaths       2.0000    30.000000  1.480110e+05  \n",
       "Recovered   29.0000   666.000000  1.846641e+06  \n",
       "Active      26.0000   606.000000  2.816444e+06  "
      ]
     },
     "execution_count": 14,
     "metadata": {},
     "output_type": "execute_result"
    }
   ],
   "source": [
    "#Describe of the dataset\n",
    "Covid_19_clean.describe().T"
   ]
  },
  {
   "cell_type": "code",
   "execution_count": 15,
   "metadata": {},
   "outputs": [
    {
     "data": {
      "text/html": [
       "<div>\n",
       "<style scoped>\n",
       "    .dataframe tbody tr th:only-of-type {\n",
       "        vertical-align: middle;\n",
       "    }\n",
       "\n",
       "    .dataframe tbody tr th {\n",
       "        vertical-align: top;\n",
       "    }\n",
       "\n",
       "    .dataframe thead th {\n",
       "        text-align: right;\n",
       "    }\n",
       "</style>\n",
       "<table border=\"1\" class=\"dataframe\">\n",
       "  <thead>\n",
       "    <tr style=\"text-align: right;\">\n",
       "      <th></th>\n",
       "      <th>Unique value count</th>\n",
       "    </tr>\n",
       "  </thead>\n",
       "  <tbody>\n",
       "    <tr>\n",
       "      <th>Province/State</th>\n",
       "      <td>78</td>\n",
       "    </tr>\n",
       "    <tr>\n",
       "      <th>Country/Region</th>\n",
       "      <td>187</td>\n",
       "    </tr>\n",
       "    <tr>\n",
       "      <th>Lat</th>\n",
       "      <td>260</td>\n",
       "    </tr>\n",
       "    <tr>\n",
       "      <th>Long</th>\n",
       "      <td>261</td>\n",
       "    </tr>\n",
       "    <tr>\n",
       "      <th>Date</th>\n",
       "      <td>188</td>\n",
       "    </tr>\n",
       "    <tr>\n",
       "      <th>Confirmed</th>\n",
       "      <td>10861</td>\n",
       "    </tr>\n",
       "    <tr>\n",
       "      <th>Deaths</th>\n",
       "      <td>3640</td>\n",
       "    </tr>\n",
       "    <tr>\n",
       "      <th>Recovered</th>\n",
       "      <td>7609</td>\n",
       "    </tr>\n",
       "    <tr>\n",
       "      <th>Active</th>\n",
       "      <td>8641</td>\n",
       "    </tr>\n",
       "    <tr>\n",
       "      <th>WHO Region</th>\n",
       "      <td>6</td>\n",
       "    </tr>\n",
       "  </tbody>\n",
       "</table>\n",
       "</div>"
      ],
      "text/plain": [
       "                Unique value count\n",
       "Province/State                  78\n",
       "Country/Region                 187\n",
       "Lat                            260\n",
       "Long                           261\n",
       "Date                           188\n",
       "Confirmed                    10861\n",
       "Deaths                        3640\n",
       "Recovered                     7609\n",
       "Active                        8641\n",
       "WHO Region                       6"
      ]
     },
     "execution_count": 15,
     "metadata": {},
     "output_type": "execute_result"
    }
   ],
   "source": [
    "#Unique Values counts \n",
    "unique_values = {}\n",
    "for col in Covid_19_clean.columns:\n",
    "  unique_values[col] = Covid_19_clean[col].value_counts().shape[0]\n",
    "\n",
    "pd.DataFrame(unique_values, index =['Unique value count']).T"
   ]
  },
  {
   "cell_type": "code",
   "execution_count": 16,
   "metadata": {},
   "outputs": [
    {
     "data": {
      "text/plain": [
       "(49068, 10)"
      ]
     },
     "execution_count": 16,
     "metadata": {},
     "output_type": "execute_result"
    }
   ],
   "source": [
    "#Shape of the dataset\n",
    "Covid_19_clean.shape"
   ]
  },
  {
   "cell_type": "code",
   "execution_count": 17,
   "metadata": {},
   "outputs": [
    {
     "name": "stdout",
     "output_type": "stream",
     "text": [
      "Duplicate rows  0\n"
     ]
    }
   ],
   "source": [
    "#Duplicate checking\n",
    "duplicates = Covid_19_clean[Covid_19_clean.duplicated(keep = 'first')]\n",
    "print(\"Duplicate rows \",len(duplicates))"
   ]
  },
  {
   "cell_type": "code",
   "execution_count": 18,
   "metadata": {},
   "outputs": [
    {
     "data": {
      "text/plain": [
       "array([[<AxesSubplot:title={'center':'Lat'}>,\n",
       "        <AxesSubplot:title={'center':'Long'}>],\n",
       "       [<AxesSubplot:title={'center':'Confirmed'}>,\n",
       "        <AxesSubplot:title={'center':'Deaths'}>],\n",
       "       [<AxesSubplot:title={'center':'Recovered'}>,\n",
       "        <AxesSubplot:title={'center':'Active'}>]], dtype=object)"
      ]
     },
     "execution_count": 18,
     "metadata": {},
     "output_type": "execute_result"
    },
    {
     "data": {
      "image/png": "[encoded data removed]",
      "text/plain": [
       "<Figure size 1440x1080 with 6 Axes>"
      ]
     },
     "metadata": {
      "needs_background": "light"
     },
     "output_type": "display_data"
    }
   ],
   "source": [
    "Covid_19_clean.hist(figsize=(20,15))"
   ]
  },
  {
   "cell_type": "markdown",
   "metadata": {},
   "source": [
    "<h4>day_wise Dataset EDA</h4>"
   ]
  },
  {
   "cell_type": "code",
   "execution_count": 19,
   "metadata": {},
   "outputs": [
    {
     "data": {
      "text/html": [
       "<div>\n",
       "<style scoped>\n",
       "    .dataframe tbody tr th:only-of-type {\n",
       "        vertical-align: middle;\n",
       "    }\n",
       "\n",
       "    .dataframe tbody tr th {\n",
       "        vertical-align: top;\n",
       "    }\n",
       "\n",
       "    .dataframe thead th {\n",
       "        text-align: right;\n",
       "    }\n",
       "</style>\n",
       "<table border=\"1\" class=\"dataframe\">\n",
       "  <thead>\n",
       "    <tr style=\"text-align: right;\">\n",
       "      <th></th>\n",
       "      <th>Date</th>\n",
       "      <th>Confirmed</th>\n",
       "      <th>Deaths</th>\n",
       "      <th>Recovered</th>\n",
       "      <th>Active</th>\n",
       "      <th>New cases</th>\n",
       "      <th>New deaths</th>\n",
       "      <th>New recovered</th>\n",
       "      <th>Deaths / 100 Cases</th>\n",
       "      <th>Recovered / 100 Cases</th>\n",
       "      <th>Deaths / 100 Recovered</th>\n",
       "      <th>No. of countries</th>\n",
       "    </tr>\n",
       "  </thead>\n",
       "  <tbody>\n",
       "    <tr>\n",
       "      <th>0</th>\n",
       "      <td>2020-01-22</td>\n",
       "      <td>555</td>\n",
       "      <td>17</td>\n",
       "      <td>28</td>\n",
       "      <td>510</td>\n",
       "      <td>0</td>\n",
       "      <td>0</td>\n",
       "      <td>0</td>\n",
       "      <td>3.06</td>\n",
       "      <td>5.05</td>\n",
       "      <td>60.71</td>\n",
       "      <td>6</td>\n",
       "    </tr>\n",
       "    <tr>\n",
       "      <th>1</th>\n",
       "      <td>2020-01-23</td>\n",
       "      <td>654</td>\n",
       "      <td>18</td>\n",
       "      <td>30</td>\n",
       "      <td>606</td>\n",
       "      <td>99</td>\n",
       "      <td>1</td>\n",
       "      <td>2</td>\n",
       "      <td>2.75</td>\n",
       "      <td>4.59</td>\n",
       "      <td>60.00</td>\n",
       "      <td>8</td>\n",
       "    </tr>\n",
       "    <tr>\n",
       "      <th>2</th>\n",
       "      <td>2020-01-24</td>\n",
       "      <td>941</td>\n",
       "      <td>26</td>\n",
       "      <td>36</td>\n",
       "      <td>879</td>\n",
       "      <td>287</td>\n",
       "      <td>8</td>\n",
       "      <td>6</td>\n",
       "      <td>2.76</td>\n",
       "      <td>3.83</td>\n",
       "      <td>72.22</td>\n",
       "      <td>9</td>\n",
       "    </tr>\n",
       "    <tr>\n",
       "      <th>3</th>\n",
       "      <td>2020-01-25</td>\n",
       "      <td>1434</td>\n",
       "      <td>42</td>\n",
       "      <td>39</td>\n",
       "      <td>1353</td>\n",
       "      <td>493</td>\n",
       "      <td>16</td>\n",
       "      <td>3</td>\n",
       "      <td>2.93</td>\n",
       "      <td>2.72</td>\n",
       "      <td>107.69</td>\n",
       "      <td>11</td>\n",
       "    </tr>\n",
       "    <tr>\n",
       "      <th>4</th>\n",
       "      <td>2020-01-26</td>\n",
       "      <td>2118</td>\n",
       "      <td>56</td>\n",
       "      <td>52</td>\n",
       "      <td>2010</td>\n",
       "      <td>684</td>\n",
       "      <td>14</td>\n",
       "      <td>13</td>\n",
       "      <td>2.64</td>\n",
       "      <td>2.46</td>\n",
       "      <td>107.69</td>\n",
       "      <td>13</td>\n",
       "    </tr>\n",
       "  </tbody>\n",
       "</table>\n",
       "</div>"
      ],
      "text/plain": [
       "         Date  Confirmed  Deaths  Recovered  Active  New cases  New deaths  \\\n",
       "0  2020-01-22        555      17         28     510          0           0   \n",
       "1  2020-01-23        654      18         30     606         99           1   \n",
       "2  2020-01-24        941      26         36     879        287           8   \n",
       "3  2020-01-25       1434      42         39    1353        493          16   \n",
       "4  2020-01-26       2118      56         52    2010        684          14   \n",
       "\n",
       "   New recovered  Deaths / 100 Cases  Recovered / 100 Cases  \\\n",
       "0              0                3.06                   5.05   \n",
       "1              2                2.75                   4.59   \n",
       "2              6                2.76                   3.83   \n",
       "3              3                2.93                   2.72   \n",
       "4             13                2.64                   2.46   \n",
       "\n",
       "   Deaths / 100 Recovered  No. of countries  \n",
       "0                   60.71                 6  \n",
       "1                   60.00                 8  \n",
       "2                   72.22                 9  \n",
       "3                  107.69                11  \n",
       "4                  107.69                13  "
      ]
     },
     "execution_count": 19,
     "metadata": {},
     "output_type": "execute_result"
    }
   ],
   "source": [
    "day_wise.head()"
   ]
  },
  {
   "cell_type": "code",
   "execution_count": 20,
   "metadata": {},
   "outputs": [
    {
     "name": "stdout",
     "output_type": "stream",
     "text": [
      "Shape of country_wise Data = (188, 12)\n",
      "Columns Name =\n",
      " Index(['Date', 'Confirmed', 'Deaths', 'Recovered', 'Active', 'New cases',\n",
      "       'New deaths', 'New recovered', 'Deaths / 100 Cases',\n",
      "       'Recovered / 100 Cases', 'Deaths / 100 Recovered', 'No. of countries'],\n",
      "      dtype='object')\n",
      "\n",
      " Data Information\n",
      "<class 'pandas.core.frame.DataFrame'>\n",
      "RangeIndex: 188 entries, 0 to 187\n",
      "Data columns (total 12 columns):\n",
      " #   Column                  Non-Null Count  Dtype  \n",
      "---  ------                  --------------  -----  \n",
      " 0   Date                    188 non-null    object \n",
      " 1   Confirmed               188 non-null    int64  \n",
      " 2   Deaths                  188 non-null    int64  \n",
      " 3   Recovered               188 non-null    int64  \n",
      " 4   Active                  188 non-null    int64  \n",
      " 5   New cases               188 non-null    int64  \n",
      " 6   New deaths              188 non-null    int64  \n",
      " 7   New recovered           188 non-null    int64  \n",
      " 8   Deaths / 100 Cases      188 non-null    float64\n",
      " 9   Recovered / 100 Cases   188 non-null    float64\n",
      " 10  Deaths / 100 Recovered  188 non-null    float64\n",
      " 11  No. of countries        188 non-null    int64  \n",
      "dtypes: float64(3), int64(8), object(1)\n",
      "memory usage: 17.8+ KB\n"
     ]
    }
   ],
   "source": [
    "# Shape and Information of the dataset\n",
    "print(\"Shape of country_wise Data = {}\".format(day_wise.shape))\n",
    "print(\"Columns Name =\\n\", day_wise.columns)\n",
    "print(\"\\n Data Information\")\n",
    "day_wise.info()"
   ]
  },
  {
   "cell_type": "code",
   "execution_count": 21,
   "metadata": {},
   "outputs": [
    {
     "data": {
      "text/html": [
       "<div>\n",
       "<style scoped>\n",
       "    .dataframe tbody tr th:only-of-type {\n",
       "        vertical-align: middle;\n",
       "    }\n",
       "\n",
       "    .dataframe tbody tr th {\n",
       "        vertical-align: top;\n",
       "    }\n",
       "\n",
       "    .dataframe thead th {\n",
       "        text-align: right;\n",
       "    }\n",
       "</style>\n",
       "<table border=\"1\" class=\"dataframe\">\n",
       "  <thead>\n",
       "    <tr style=\"text-align: right;\">\n",
       "      <th></th>\n",
       "      <th>count</th>\n",
       "      <th>mean</th>\n",
       "      <th>std</th>\n",
       "      <th>min</th>\n",
       "      <th>25%</th>\n",
       "      <th>50%</th>\n",
       "      <th>75%</th>\n",
       "      <th>max</th>\n",
       "    </tr>\n",
       "  </thead>\n",
       "  <tbody>\n",
       "    <tr>\n",
       "      <th>Confirmed</th>\n",
       "      <td>188.0</td>\n",
       "      <td>4.406960e+06</td>\n",
       "      <td>4.757988e+06</td>\n",
       "      <td>555.00</td>\n",
       "      <td>112191.000</td>\n",
       "      <td>2848733.00</td>\n",
       "      <td>7.422046e+06</td>\n",
       "      <td>16480485.00</td>\n",
       "    </tr>\n",
       "    <tr>\n",
       "      <th>Deaths</th>\n",
       "      <td>188.0</td>\n",
       "      <td>2.307708e+05</td>\n",
       "      <td>2.179291e+05</td>\n",
       "      <td>17.00</td>\n",
       "      <td>3935.000</td>\n",
       "      <td>204190.00</td>\n",
       "      <td>4.186345e+05</td>\n",
       "      <td>654036.00</td>\n",
       "    </tr>\n",
       "    <tr>\n",
       "      <th>Recovered</th>\n",
       "      <td>188.0</td>\n",
       "      <td>2.066001e+06</td>\n",
       "      <td>2.627976e+06</td>\n",
       "      <td>28.00</td>\n",
       "      <td>60441.250</td>\n",
       "      <td>784784.00</td>\n",
       "      <td>3.416396e+06</td>\n",
       "      <td>9468087.00</td>\n",
       "    </tr>\n",
       "    <tr>\n",
       "      <th>Active</th>\n",
       "      <td>188.0</td>\n",
       "      <td>2.110188e+06</td>\n",
       "      <td>1.969670e+06</td>\n",
       "      <td>510.00</td>\n",
       "      <td>58641.750</td>\n",
       "      <td>1859759.00</td>\n",
       "      <td>3.587015e+06</td>\n",
       "      <td>6358362.00</td>\n",
       "    </tr>\n",
       "    <tr>\n",
       "      <th>New cases</th>\n",
       "      <td>188.0</td>\n",
       "      <td>8.777102e+04</td>\n",
       "      <td>7.529529e+04</td>\n",
       "      <td>0.00</td>\n",
       "      <td>5568.500</td>\n",
       "      <td>81114.00</td>\n",
       "      <td>1.315025e+05</td>\n",
       "      <td>282756.00</td>\n",
       "    </tr>\n",
       "    <tr>\n",
       "      <th>New deaths</th>\n",
       "      <td>188.0</td>\n",
       "      <td>3.478824e+03</td>\n",
       "      <td>2.537736e+03</td>\n",
       "      <td>0.00</td>\n",
       "      <td>250.750</td>\n",
       "      <td>4116.00</td>\n",
       "      <td>5.346000e+03</td>\n",
       "      <td>9966.00</td>\n",
       "    </tr>\n",
       "    <tr>\n",
       "      <th>New recovered</th>\n",
       "      <td>188.0</td>\n",
       "      <td>5.036202e+04</td>\n",
       "      <td>5.609089e+04</td>\n",
       "      <td>0.00</td>\n",
       "      <td>2488.250</td>\n",
       "      <td>30991.50</td>\n",
       "      <td>7.970625e+04</td>\n",
       "      <td>284394.00</td>\n",
       "    </tr>\n",
       "    <tr>\n",
       "      <th>Deaths / 100 Cases</th>\n",
       "      <td>188.0</td>\n",
       "      <td>4.860638e+00</td>\n",
       "      <td>1.579541e+00</td>\n",
       "      <td>2.04</td>\n",
       "      <td>3.510</td>\n",
       "      <td>4.85</td>\n",
       "      <td>6.297500e+00</td>\n",
       "      <td>7.18</td>\n",
       "    </tr>\n",
       "    <tr>\n",
       "      <th>Recovered / 100 Cases</th>\n",
       "      <td>188.0</td>\n",
       "      <td>3.434394e+01</td>\n",
       "      <td>1.620616e+01</td>\n",
       "      <td>1.71</td>\n",
       "      <td>22.785</td>\n",
       "      <td>35.68</td>\n",
       "      <td>4.894500e+01</td>\n",
       "      <td>57.45</td>\n",
       "    </tr>\n",
       "    <tr>\n",
       "      <th>Deaths / 100 Recovered</th>\n",
       "      <td>188.0</td>\n",
       "      <td>2.210452e+01</td>\n",
       "      <td>2.256831e+01</td>\n",
       "      <td>6.26</td>\n",
       "      <td>9.650</td>\n",
       "      <td>15.38</td>\n",
       "      <td>2.534250e+01</td>\n",
       "      <td>134.43</td>\n",
       "    </tr>\n",
       "    <tr>\n",
       "      <th>No. of countries</th>\n",
       "      <td>188.0</td>\n",
       "      <td>1.443511e+02</td>\n",
       "      <td>6.517598e+01</td>\n",
       "      <td>6.00</td>\n",
       "      <td>101.250</td>\n",
       "      <td>184.00</td>\n",
       "      <td>1.870000e+02</td>\n",
       "      <td>187.00</td>\n",
       "    </tr>\n",
       "  </tbody>\n",
       "</table>\n",
       "</div>"
      ],
      "text/plain": [
       "                        count          mean           std     min         25%  \\\n",
       "Confirmed               188.0  4.406960e+06  4.757988e+06  555.00  112191.000   \n",
       "Deaths                  188.0  2.307708e+05  2.179291e+05   17.00    3935.000   \n",
       "Recovered               188.0  2.066001e+06  2.627976e+06   28.00   60441.250   \n",
       "Active                  188.0  2.110188e+06  1.969670e+06  510.00   58641.750   \n",
       "New cases               188.0  8.777102e+04  7.529529e+04    0.00    5568.500   \n",
       "New deaths              188.0  3.478824e+03  2.537736e+03    0.00     250.750   \n",
       "New recovered           188.0  5.036202e+04  5.609089e+04    0.00    2488.250   \n",
       "Deaths / 100 Cases      188.0  4.860638e+00  1.579541e+00    2.04       3.510   \n",
       "Recovered / 100 Cases   188.0  3.434394e+01  1.620616e+01    1.71      22.785   \n",
       "Deaths / 100 Recovered  188.0  2.210452e+01  2.256831e+01    6.26       9.650   \n",
       "No. of countries        188.0  1.443511e+02  6.517598e+01    6.00     101.250   \n",
       "\n",
       "                               50%           75%          max  \n",
       "Confirmed               2848733.00  7.422046e+06  16480485.00  \n",
       "Deaths                   204190.00  4.186345e+05    654036.00  \n",
       "Recovered                784784.00  3.416396e+06   9468087.00  \n",
       "Active                  1859759.00  3.587015e+06   6358362.00  \n",
       "New cases                 81114.00  1.315025e+05    282756.00  \n",
       "New deaths                 4116.00  5.346000e+03      9966.00  \n",
       "New recovered             30991.50  7.970625e+04    284394.00  \n",
       "Deaths / 100 Cases            4.85  6.297500e+00         7.18  \n",
       "Recovered / 100 Cases        35.68  4.894500e+01        57.45  \n",
       "Deaths / 100 Recovered       15.38  2.534250e+01       134.43  \n",
       "No. of countries            184.00  1.870000e+02       187.00  "
      ]
     },
     "execution_count": 21,
     "metadata": {},
     "output_type": "execute_result"
    }
   ],
   "source": [
    "#Describe of the dataset\n",
    "day_wise.describe().T"
   ]
  },
  {
   "cell_type": "code",
   "execution_count": 22,
   "metadata": {},
   "outputs": [
    {
     "data": {
      "text/html": [
       "<div>\n",
       "<style scoped>\n",
       "    .dataframe tbody tr th:only-of-type {\n",
       "        vertical-align: middle;\n",
       "    }\n",
       "\n",
       "    .dataframe tbody tr th {\n",
       "        vertical-align: top;\n",
       "    }\n",
       "\n",
       "    .dataframe thead th {\n",
       "        text-align: right;\n",
       "    }\n",
       "</style>\n",
       "<table border=\"1\" class=\"dataframe\">\n",
       "  <thead>\n",
       "    <tr style=\"text-align: right;\">\n",
       "      <th></th>\n",
       "      <th>Unique value count</th>\n",
       "    </tr>\n",
       "  </thead>\n",
       "  <tbody>\n",
       "    <tr>\n",
       "      <th>Date</th>\n",
       "      <td>188</td>\n",
       "    </tr>\n",
       "    <tr>\n",
       "      <th>Confirmed</th>\n",
       "      <td>188</td>\n",
       "    </tr>\n",
       "    <tr>\n",
       "      <th>Deaths</th>\n",
       "      <td>188</td>\n",
       "    </tr>\n",
       "    <tr>\n",
       "      <th>Recovered</th>\n",
       "      <td>188</td>\n",
       "    </tr>\n",
       "    <tr>\n",
       "      <th>Active</th>\n",
       "      <td>188</td>\n",
       "    </tr>\n",
       "    <tr>\n",
       "      <th>New cases</th>\n",
       "      <td>188</td>\n",
       "    </tr>\n",
       "    <tr>\n",
       "      <th>New deaths</th>\n",
       "      <td>185</td>\n",
       "    </tr>\n",
       "    <tr>\n",
       "      <th>New recovered</th>\n",
       "      <td>188</td>\n",
       "    </tr>\n",
       "    <tr>\n",
       "      <th>Deaths / 100 Cases</th>\n",
       "      <td>162</td>\n",
       "    </tr>\n",
       "    <tr>\n",
       "      <th>Recovered / 100 Cases</th>\n",
       "      <td>185</td>\n",
       "    </tr>\n",
       "    <tr>\n",
       "      <th>Deaths / 100 Recovered</th>\n",
       "      <td>182</td>\n",
       "    </tr>\n",
       "    <tr>\n",
       "      <th>No. of countries</th>\n",
       "      <td>56</td>\n",
       "    </tr>\n",
       "  </tbody>\n",
       "</table>\n",
       "</div>"
      ],
      "text/plain": [
       "                        Unique value count\n",
       "Date                                   188\n",
       "Confirmed                              188\n",
       "Deaths                                 188\n",
       "Recovered                              188\n",
       "Active                                 188\n",
       "New cases                              188\n",
       "New deaths                             185\n",
       "New recovered                          188\n",
       "Deaths / 100 Cases                     162\n",
       "Recovered / 100 Cases                  185\n",
       "Deaths / 100 Recovered                 182\n",
       "No. of countries                        56"
      ]
     },
     "execution_count": 22,
     "metadata": {},
     "output_type": "execute_result"
    }
   ],
   "source": [
    "#Unique Values counts \n",
    "unique_values = {}\n",
    "for col in day_wise.columns:\n",
    "  unique_values[col] = day_wise[col].value_counts().shape[0]\n",
    "\n",
    "pd.DataFrame(unique_values, index =['Unique value count']).T"
   ]
  },
  {
   "cell_type": "code",
   "execution_count": 23,
   "metadata": {},
   "outputs": [
    {
     "data": {
      "text/plain": [
       "(188, 12)"
      ]
     },
     "execution_count": 23,
     "metadata": {},
     "output_type": "execute_result"
    }
   ],
   "source": [
    "#Shape of the dataset\n",
    "day_wise.shape"
   ]
  },
  {
   "cell_type": "code",
   "execution_count": 24,
   "metadata": {},
   "outputs": [
    {
     "name": "stdout",
     "output_type": "stream",
     "text": [
      "Duplicate rows  0\n"
     ]
    }
   ],
   "source": [
    "#Duplicate checking\n",
    "duplicates = day_wise[day_wise.duplicated(keep = 'first')]\n",
    "print(\"Duplicate rows \",len(duplicates))"
   ]
  },
  {
   "cell_type": "code",
   "execution_count": 25,
   "metadata": {},
   "outputs": [
    {
     "data": {
      "text/plain": [
       "array([[<AxesSubplot:title={'center':'Confirmed'}>,\n",
       "        <AxesSubplot:title={'center':'Deaths'}>,\n",
       "        <AxesSubplot:title={'center':'Recovered'}>],\n",
       "       [<AxesSubplot:title={'center':'Active'}>,\n",
       "        <AxesSubplot:title={'center':'New cases'}>,\n",
       "        <AxesSubplot:title={'center':'New deaths'}>],\n",
       "       [<AxesSubplot:title={'center':'New recovered'}>,\n",
       "        <AxesSubplot:title={'center':'Deaths / 100 Cases'}>,\n",
       "        <AxesSubplot:title={'center':'Recovered / 100 Cases'}>],\n",
       "       [<AxesSubplot:title={'center':'Deaths / 100 Recovered'}>,\n",
       "        <AxesSubplot:title={'center':'No. of countries'}>,\n",
       "        <AxesSubplot:>]], dtype=object)"
      ]
     },
     "execution_count": 25,
     "metadata": {},
     "output_type": "execute_result"
    },
    {
     "data": {
      "image/png": "[encoded data removed]",
      "text/plain": [
       "<Figure size 1440x1080 with 12 Axes>"
      ]
     },
     "metadata": {
      "needs_background": "light"
     },
     "output_type": "display_data"
    }
   ],
   "source": [
    "day_wise.hist(figsize=(20,15))"
   ]
  },
  {
   "cell_type": "markdown",
   "metadata": {
    "id": "QRfmOl7W0FZs"
   },
   "source": [
    "<h4>Data Visualization for Full_Grouped CSV</h4>\n",
    "\n",
    "> Indented block\n",
    "\n"
   ]
  },
  {
   "cell_type": "code",
   "execution_count": 26,
   "metadata": {
    "colab": {
     "base_uri": "https://localhost:8080/",
     "height": 206
    },
    "id": "AQ2hDoITz4Rv",
    "outputId": "d8325903-587c-4fea-d2f2-9bc6dc715c0a"
   },
   "outputs": [
    {
     "data": {
      "text/html": [
       "<div>\n",
       "<style scoped>\n",
       "    .dataframe tbody tr th:only-of-type {\n",
       "        vertical-align: middle;\n",
       "    }\n",
       "\n",
       "    .dataframe tbody tr th {\n",
       "        vertical-align: top;\n",
       "    }\n",
       "\n",
       "    .dataframe thead th {\n",
       "        text-align: right;\n",
       "    }\n",
       "</style>\n",
       "<table border=\"1\" class=\"dataframe\">\n",
       "  <thead>\n",
       "    <tr style=\"text-align: right;\">\n",
       "      <th></th>\n",
       "      <th>Date</th>\n",
       "      <th>Country/Region</th>\n",
       "      <th>Confirmed</th>\n",
       "      <th>Deaths</th>\n",
       "      <th>Recovered</th>\n",
       "      <th>Active</th>\n",
       "      <th>New cases</th>\n",
       "      <th>New deaths</th>\n",
       "      <th>New recovered</th>\n",
       "      <th>WHO Region</th>\n",
       "    </tr>\n",
       "  </thead>\n",
       "  <tbody>\n",
       "    <tr>\n",
       "      <th>0</th>\n",
       "      <td>2020-01-22</td>\n",
       "      <td>Afghanistan</td>\n",
       "      <td>0</td>\n",
       "      <td>0</td>\n",
       "      <td>0</td>\n",
       "      <td>0</td>\n",
       "      <td>0</td>\n",
       "      <td>0</td>\n",
       "      <td>0</td>\n",
       "      <td>Eastern Mediterranean</td>\n",
       "    </tr>\n",
       "    <tr>\n",
       "      <th>1</th>\n",
       "      <td>2020-01-22</td>\n",
       "      <td>Albania</td>\n",
       "      <td>0</td>\n",
       "      <td>0</td>\n",
       "      <td>0</td>\n",
       "      <td>0</td>\n",
       "      <td>0</td>\n",
       "      <td>0</td>\n",
       "      <td>0</td>\n",
       "      <td>Europe</td>\n",
       "    </tr>\n",
       "    <tr>\n",
       "      <th>2</th>\n",
       "      <td>2020-01-22</td>\n",
       "      <td>Algeria</td>\n",
       "      <td>0</td>\n",
       "      <td>0</td>\n",
       "      <td>0</td>\n",
       "      <td>0</td>\n",
       "      <td>0</td>\n",
       "      <td>0</td>\n",
       "      <td>0</td>\n",
       "      <td>Africa</td>\n",
       "    </tr>\n",
       "    <tr>\n",
       "      <th>3</th>\n",
       "      <td>2020-01-22</td>\n",
       "      <td>Andorra</td>\n",
       "      <td>0</td>\n",
       "      <td>0</td>\n",
       "      <td>0</td>\n",
       "      <td>0</td>\n",
       "      <td>0</td>\n",
       "      <td>0</td>\n",
       "      <td>0</td>\n",
       "      <td>Europe</td>\n",
       "    </tr>\n",
       "    <tr>\n",
       "      <th>4</th>\n",
       "      <td>2020-01-22</td>\n",
       "      <td>Angola</td>\n",
       "      <td>0</td>\n",
       "      <td>0</td>\n",
       "      <td>0</td>\n",
       "      <td>0</td>\n",
       "      <td>0</td>\n",
       "      <td>0</td>\n",
       "      <td>0</td>\n",
       "      <td>Africa</td>\n",
       "    </tr>\n",
       "  </tbody>\n",
       "</table>\n",
       "</div>"
      ],
      "text/plain": [
       "         Date Country/Region  Confirmed  Deaths  Recovered  Active  New cases  \\\n",
       "0  2020-01-22    Afghanistan          0       0          0       0          0   \n",
       "1  2020-01-22        Albania          0       0          0       0          0   \n",
       "2  2020-01-22        Algeria          0       0          0       0          0   \n",
       "3  2020-01-22        Andorra          0       0          0       0          0   \n",
       "4  2020-01-22         Angola          0       0          0       0          0   \n",
       "\n",
       "   New deaths  New recovered             WHO Region  \n",
       "0           0              0  Eastern Mediterranean  \n",
       "1           0              0                 Europe  \n",
       "2           0              0                 Africa  \n",
       "3           0              0                 Europe  \n",
       "4           0              0                 Africa  "
      ]
     },
     "execution_count": 26,
     "metadata": {},
     "output_type": "execute_result"
    }
   ],
   "source": [
    "full_grouped.head()"
   ]
  },
  {
   "cell_type": "code",
   "execution_count": 27,
   "metadata": {
    "colab": {
     "base_uri": "https://localhost:8080/"
    },
    "id": "iZd2H5wk0JJC",
    "outputId": "b52af2ca-7703-4560-a4d3-5b5a740e7858"
   },
   "outputs": [
    {
     "name": "stdout",
     "output_type": "stream",
     "text": [
      "(35156, 10)\n"
     ]
    }
   ],
   "source": [
    "#shape of the Dataset\n",
    "print(full_grouped.shape)"
   ]
  },
  {
   "cell_type": "code",
   "execution_count": 28,
   "metadata": {
    "colab": {
     "base_uri": "https://localhost:8080/"
    },
    "id": "BFBYibPf0LFe",
    "outputId": "f4ecd495-c543-4c76-fbec-bce366b76a4c"
   },
   "outputs": [
    {
     "name": "stdout",
     "output_type": "stream",
     "text": [
      "<class 'pandas.core.frame.DataFrame'>\n",
      "RangeIndex: 35156 entries, 0 to 35155\n",
      "Data columns (total 10 columns):\n",
      " #   Column          Non-Null Count  Dtype \n",
      "---  ------          --------------  ----- \n",
      " 0   Date            35156 non-null  object\n",
      " 1   Country/Region  35156 non-null  object\n",
      " 2   Confirmed       35156 non-null  int64 \n",
      " 3   Deaths          35156 non-null  int64 \n",
      " 4   Recovered       35156 non-null  int64 \n",
      " 5   Active          35156 non-null  int64 \n",
      " 6   New cases       35156 non-null  int64 \n",
      " 7   New deaths      35156 non-null  int64 \n",
      " 8   New recovered   35156 non-null  int64 \n",
      " 9   WHO Region      35156 non-null  object\n",
      "dtypes: int64(7), object(3)\n",
      "memory usage: 2.7+ MB\n"
     ]
    }
   ],
   "source": [
    "#Information of dataset\n",
    "full_grouped.info()"
   ]
  },
  {
   "cell_type": "code",
   "execution_count": 29,
   "metadata": {
    "colab": {
     "base_uri": "https://localhost:8080/"
    },
    "id": "zJeoadIB0M1y",
    "outputId": "feaf7ba5-103d-4cd0-80ff-9e1244481252"
   },
   "outputs": [
    {
     "data": {
      "text/plain": [
       "['Confirmed',\n",
       " 'Deaths',\n",
       " 'Recovered',\n",
       " 'Active',\n",
       " 'New cases',\n",
       " 'New deaths',\n",
       " 'New recovered']"
      ]
     },
     "execution_count": 29,
     "metadata": {},
     "output_type": "execute_result"
    }
   ],
   "source": [
    "#numeric columns\n",
    "numeric_columns = list(full_grouped.select_dtypes(include=np.number).columns)\n",
    "numeric_columns"
   ]
  },
  {
   "cell_type": "code",
   "execution_count": 30,
   "metadata": {
    "colab": {
     "base_uri": "https://localhost:8080/"
    },
    "id": "7EfLn1ur0Y1o",
    "outputId": "e65c137f-40cf-420b-cc1b-e16372649bbc"
   },
   "outputs": [
    {
     "name": "stdout",
     "output_type": "stream",
     "text": [
      "WHO Region has ['Eastern Mediterranean' 'Europe' 'Africa' 'Americas' 'Western Pacific'\n",
      " 'South-East Asia'] values\n",
      "\n"
     ]
    }
   ],
   "source": [
    "#Columns with unique count less than equal to 10 alongwith their values\n",
    "dict_unique_count = {\n",
    "    'Column' : [],\n",
    "    'Count' : []\n",
    "}\n",
    "\n",
    "for col in full_grouped.columns:\n",
    "    dict_unique_count['Column'].append(col)\n",
    "    dict_unique_count['Count'].append(full_grouped[col].nunique())\n",
    "    \n",
    "df_unique = pd.DataFrame(dict_unique_count)\n",
    "df_unique = df_unique[df_unique['Count'] <= 10]\n",
    "\n",
    "for col in df_unique['Column']:\n",
    "    print(f\"{col} has {full_grouped[col].unique()} values\\n\")"
   ]
  },
  {
   "cell_type": "code",
   "execution_count": 31,
   "metadata": {
    "colab": {
     "base_uri": "https://localhost:8080/"
    },
    "id": "z-DppGI90b_A",
    "outputId": "b6f51bd3-2d22-4077-fa5e-4efd1754f745"
   },
   "outputs": [
    {
     "name": "stdout",
     "output_type": "stream",
     "text": [
      "Duplicate count :  0\n"
     ]
    }
   ],
   "source": [
    "#Duplicates\n",
    "Duplicated = full_grouped[full_grouped.duplicated(keep='first')]\n",
    "print('Duplicate count : ', Duplicated.shape[0])\n",
    "full_grouped = full_grouped.drop_duplicates(inplace=False)"
   ]
  },
  {
   "cell_type": "code",
   "execution_count": 32,
   "metadata": {
    "colab": {
     "base_uri": "https://localhost:8080/"
    },
    "id": "V2aQocmk0nPa",
    "outputId": "4d00b9d9-5215-430e-afb7-5c88796aeb18"
   },
   "outputs": [
    {
     "name": "stdout",
     "output_type": "stream",
     "text": [
      "                Count  % age\n",
      "Date                0    0.0\n",
      "Country/Region      0    0.0\n",
      "Confirmed           0    0.0\n",
      "Deaths              0    0.0\n",
      "Recovered           0    0.0\n",
      "Active              0    0.0\n",
      "New cases           0    0.0\n",
      "New deaths          0    0.0\n",
      "New recovered       0    0.0\n",
      "WHO Region          0    0.0\n"
     ]
    }
   ],
   "source": [
    "#Null values\n",
    "dft = pd.DataFrame({ 'Count': full_grouped.isnull().sum(), '% age': full_grouped.isnull().sum() * 100 /full_grouped.shape[0] })\n",
    "print(dft.sort_values(by=['Count']))"
   ]
  },
  {
   "cell_type": "code",
   "execution_count": 34,
   "metadata": {},
   "outputs": [
    {
     "data": {
      "text/plain": [
       "array([[<AxesSubplot:title={'center':'Confirmed'}>,\n",
       "        <AxesSubplot:title={'center':'Deaths'}>,\n",
       "        <AxesSubplot:title={'center':'Recovered'}>],\n",
       "       [<AxesSubplot:title={'center':'Active'}>,\n",
       "        <AxesSubplot:title={'center':'New cases'}>,\n",
       "        <AxesSubplot:title={'center':'New deaths'}>],\n",
       "       [<AxesSubplot:title={'center':'New recovered'}>, <AxesSubplot:>,\n",
       "        <AxesSubplot:>]], dtype=object)"
      ]
     },
     "execution_count": 34,
     "metadata": {},
     "output_type": "execute_result"
    },
    {
     "data": {
      "image/png": "[encoded data removed]",
      "text/plain": [
       "<Figure size 1440x1080 with 9 Axes>"
      ]
     },
     "metadata": {
      "needs_background": "light"
     },
     "output_type": "display_data"
    }
   ],
   "source": [
    "full_grouped.hist(figsize=(20,15))"
   ]
  },
  {
   "cell_type": "markdown",
   "metadata": {
    "id": "_R8BMx_700KK"
   },
   "source": [
    "<h4>USA_Country_Dataset</h4>\n",
    "\n",
    "```\n",
    "# This is formatted as code\n",
    "```\n",
    "\n"
   ]
  },
  {
   "cell_type": "code",
   "execution_count": 35,
   "metadata": {
    "id": "U56nwGtY0uv9"
   },
   "outputs": [
    {
     "data": {
      "text/html": [
       "<div>\n",
       "<style scoped>\n",
       "    .dataframe tbody tr th:only-of-type {\n",
       "        vertical-align: middle;\n",
       "    }\n",
       "\n",
       "    .dataframe tbody tr th {\n",
       "        vertical-align: top;\n",
       "    }\n",
       "\n",
       "    .dataframe thead th {\n",
       "        text-align: right;\n",
       "    }\n",
       "</style>\n",
       "<table border=\"1\" class=\"dataframe\">\n",
       "  <thead>\n",
       "    <tr style=\"text-align: right;\">\n",
       "      <th></th>\n",
       "      <th>UID</th>\n",
       "      <th>iso2</th>\n",
       "      <th>iso3</th>\n",
       "      <th>code3</th>\n",
       "      <th>FIPS</th>\n",
       "      <th>Admin2</th>\n",
       "      <th>Province_State</th>\n",
       "      <th>Country_Region</th>\n",
       "      <th>Lat</th>\n",
       "      <th>Long_</th>\n",
       "      <th>Combined_Key</th>\n",
       "      <th>Date</th>\n",
       "      <th>Confirmed</th>\n",
       "      <th>Deaths</th>\n",
       "    </tr>\n",
       "  </thead>\n",
       "  <tbody>\n",
       "    <tr>\n",
       "      <th>0</th>\n",
       "      <td>16</td>\n",
       "      <td>AS</td>\n",
       "      <td>ASM</td>\n",
       "      <td>16</td>\n",
       "      <td>60.0</td>\n",
       "      <td>NaN</td>\n",
       "      <td>American Samoa</td>\n",
       "      <td>US</td>\n",
       "      <td>-14.271000</td>\n",
       "      <td>-170.132000</td>\n",
       "      <td>American Samoa, US</td>\n",
       "      <td>1/22/20</td>\n",
       "      <td>0</td>\n",
       "      <td>0</td>\n",
       "    </tr>\n",
       "    <tr>\n",
       "      <th>1</th>\n",
       "      <td>316</td>\n",
       "      <td>GU</td>\n",
       "      <td>GUM</td>\n",
       "      <td>316</td>\n",
       "      <td>66.0</td>\n",
       "      <td>NaN</td>\n",
       "      <td>Guam</td>\n",
       "      <td>US</td>\n",
       "      <td>13.444300</td>\n",
       "      <td>144.793700</td>\n",
       "      <td>Guam, US</td>\n",
       "      <td>1/22/20</td>\n",
       "      <td>0</td>\n",
       "      <td>0</td>\n",
       "    </tr>\n",
       "    <tr>\n",
       "      <th>2</th>\n",
       "      <td>580</td>\n",
       "      <td>MP</td>\n",
       "      <td>MNP</td>\n",
       "      <td>580</td>\n",
       "      <td>69.0</td>\n",
       "      <td>NaN</td>\n",
       "      <td>Northern Mariana Islands</td>\n",
       "      <td>US</td>\n",
       "      <td>15.097900</td>\n",
       "      <td>145.673900</td>\n",
       "      <td>Northern Mariana Islands, US</td>\n",
       "      <td>1/22/20</td>\n",
       "      <td>0</td>\n",
       "      <td>0</td>\n",
       "    </tr>\n",
       "    <tr>\n",
       "      <th>3</th>\n",
       "      <td>63072001</td>\n",
       "      <td>PR</td>\n",
       "      <td>PRI</td>\n",
       "      <td>630</td>\n",
       "      <td>72001.0</td>\n",
       "      <td>Adjuntas</td>\n",
       "      <td>Puerto Rico</td>\n",
       "      <td>US</td>\n",
       "      <td>18.180117</td>\n",
       "      <td>-66.754367</td>\n",
       "      <td>Adjuntas, Puerto Rico, US</td>\n",
       "      <td>1/22/20</td>\n",
       "      <td>0</td>\n",
       "      <td>0</td>\n",
       "    </tr>\n",
       "    <tr>\n",
       "      <th>4</th>\n",
       "      <td>63072003</td>\n",
       "      <td>PR</td>\n",
       "      <td>PRI</td>\n",
       "      <td>630</td>\n",
       "      <td>72003.0</td>\n",
       "      <td>Aguada</td>\n",
       "      <td>Puerto Rico</td>\n",
       "      <td>US</td>\n",
       "      <td>18.360255</td>\n",
       "      <td>-67.175131</td>\n",
       "      <td>Aguada, Puerto Rico, US</td>\n",
       "      <td>1/22/20</td>\n",
       "      <td>0</td>\n",
       "      <td>0</td>\n",
       "    </tr>\n",
       "  </tbody>\n",
       "</table>\n",
       "</div>"
      ],
      "text/plain": [
       "        UID iso2 iso3  code3     FIPS    Admin2            Province_State  \\\n",
       "0        16   AS  ASM     16     60.0       NaN            American Samoa   \n",
       "1       316   GU  GUM    316     66.0       NaN                      Guam   \n",
       "2       580   MP  MNP    580     69.0       NaN  Northern Mariana Islands   \n",
       "3  63072001   PR  PRI    630  72001.0  Adjuntas               Puerto Rico   \n",
       "4  63072003   PR  PRI    630  72003.0    Aguada               Puerto Rico   \n",
       "\n",
       "  Country_Region        Lat       Long_                  Combined_Key  \\\n",
       "0             US -14.271000 -170.132000            American Samoa, US   \n",
       "1             US  13.444300  144.793700                      Guam, US   \n",
       "2             US  15.097900  145.673900  Northern Mariana Islands, US   \n",
       "3             US  18.180117  -66.754367     Adjuntas, Puerto Rico, US   \n",
       "4             US  18.360255  -67.175131       Aguada, Puerto Rico, US   \n",
       "\n",
       "      Date  Confirmed  Deaths  \n",
       "0  1/22/20          0       0  \n",
       "1  1/22/20          0       0  \n",
       "2  1/22/20          0       0  \n",
       "3  1/22/20          0       0  \n",
       "4  1/22/20          0       0  "
      ]
     },
     "execution_count": 35,
     "metadata": {},
     "output_type": "execute_result"
    }
   ],
   "source": [
    "usa_country_wise.head()"
   ]
  },
  {
   "cell_type": "code",
   "execution_count": 36,
   "metadata": {
    "id": "9daMHRE309jM"
   },
   "outputs": [
    {
     "name": "stdout",
     "output_type": "stream",
     "text": [
      "(627920, 14)\n"
     ]
    }
   ],
   "source": [
    "#shape of the dataset\n",
    "print(usa_country_wise.shape)"
   ]
  },
  {
   "cell_type": "code",
   "execution_count": 37,
   "metadata": {
    "id": "c0ucwBZa1N_V"
   },
   "outputs": [
    {
     "name": "stdout",
     "output_type": "stream",
     "text": [
      "<class 'pandas.core.frame.DataFrame'>\n",
      "RangeIndex: 627920 entries, 0 to 627919\n",
      "Data columns (total 14 columns):\n",
      " #   Column          Non-Null Count   Dtype  \n",
      "---  ------          --------------   -----  \n",
      " 0   UID             627920 non-null  int64  \n",
      " 1   iso2            627920 non-null  object \n",
      " 2   iso3            627920 non-null  object \n",
      " 3   code3           627920 non-null  int64  \n",
      " 4   FIPS            626040 non-null  float64\n",
      " 5   Admin2          626792 non-null  object \n",
      " 6   Province_State  627920 non-null  object \n",
      " 7   Country_Region  627920 non-null  object \n",
      " 8   Lat             627920 non-null  float64\n",
      " 9   Long_           627920 non-null  float64\n",
      " 10  Combined_Key    627920 non-null  object \n",
      " 11  Date            627920 non-null  object \n",
      " 12  Confirmed       627920 non-null  int64  \n",
      " 13  Deaths          627920 non-null  int64  \n",
      "dtypes: float64(3), int64(4), object(7)\n",
      "memory usage: 67.1+ MB\n"
     ]
    }
   ],
   "source": [
    "#information of the dataset\n",
    "usa_country_wise.info()"
   ]
  },
  {
   "cell_type": "code",
   "execution_count": 38,
   "metadata": {
    "id": "T0530rUiP2Uz"
   },
   "outputs": [
    {
     "data": {
      "text/plain": [
       "['UID', 'code3', 'FIPS', 'Lat', 'Long_', 'Confirmed', 'Deaths']"
      ]
     },
     "execution_count": 38,
     "metadata": {},
     "output_type": "execute_result"
    }
   ],
   "source": [
    "#numeric columns \n",
    "numeric_columns = list(usa_country_wise.select_dtypes(include=np.number).columns)\n",
    "numeric_columns"
   ]
  },
  {
   "cell_type": "code",
   "execution_count": 39,
   "metadata": {
    "id": "o300agL7QFLp"
   },
   "outputs": [
    {
     "name": "stdout",
     "output_type": "stream",
     "text": [
      "iso2 has ['AS' 'GU' 'MP' 'PR' 'VI' 'US'] values\n",
      "\n",
      "iso3 has ['ASM' 'GUM' 'MNP' 'PRI' 'VIR' 'USA'] values\n",
      "\n",
      "code3 has [ 16 316 580 630 850 840] values\n",
      "\n",
      "Country_Region has ['US'] values\n",
      "\n"
     ]
    }
   ],
   "source": [
    "#Columns with unique count less than equal to 10 alongwith their values\n",
    "\n",
    "dict_unique_count = {\n",
    "    'Column' : [],\n",
    "    'Count' : []\n",
    "}\n",
    "\n",
    "for col in usa_country_wise.columns:\n",
    "    dict_unique_count['Column'].append(col)\n",
    "    dict_unique_count['Count'].append(usa_country_wise[col].nunique())\n",
    "    \n",
    "df_unique = pd.DataFrame(dict_unique_count)\n",
    "df_unique = df_unique[df_unique['Count'] <= 10]\n",
    "\n",
    "for col in df_unique['Column']:\n",
    "    print(f\"{col} has {usa_country_wise[col].unique()} values\\n\")"
   ]
  },
  {
   "cell_type": "code",
   "execution_count": 40,
   "metadata": {
    "id": "PUadoINGQNG-"
   },
   "outputs": [
    {
     "name": "stdout",
     "output_type": "stream",
     "text": [
      "Duplicate count :  0\n"
     ]
    }
   ],
   "source": [
    "#Duplicate counts \n",
    "Duplicated = usa_country_wise[usa_country_wise.duplicated(keep='first')]\n",
    "print('Duplicate count : ', Duplicated.shape[0])\n",
    "usa_county_wise = usa_country_wise.drop_duplicates(inplace=False)"
   ]
  },
  {
   "cell_type": "code",
   "execution_count": 41,
   "metadata": {
    "id": "VvugVof4Qxcd"
   },
   "outputs": [
    {
     "name": "stdout",
     "output_type": "stream",
     "text": [
      "                Count     % age\n",
      "UID                 0  0.000000\n",
      "iso2                0  0.000000\n",
      "iso3                0  0.000000\n",
      "code3               0  0.000000\n",
      "Province_State      0  0.000000\n",
      "Country_Region      0  0.000000\n",
      "Lat                 0  0.000000\n",
      "Long_               0  0.000000\n",
      "Combined_Key        0  0.000000\n",
      "Date                0  0.000000\n",
      "Confirmed           0  0.000000\n",
      "Deaths              0  0.000000\n",
      "Admin2           1128  0.179641\n",
      "FIPS             1880  0.299401\n"
     ]
    }
   ],
   "source": [
    "#check Null in the dataset\n",
    "dft = pd.DataFrame({ 'Count': usa_country_wise.isnull().sum(), '% age': usa_country_wise.isnull().sum() * 100 /usa_country_wise.shape[0] })\n",
    "print(dft.sort_values(by=['Count']))"
   ]
  },
  {
   "cell_type": "code",
   "execution_count": 42,
   "metadata": {
    "id": "43X5sKBzRB5H"
   },
   "outputs": [
    {
     "data": {
      "text/plain": [
       "array([[<AxesSubplot:title={'center':'UID'}>,\n",
       "        <AxesSubplot:title={'center':'code3'}>,\n",
       "        <AxesSubplot:title={'center':'FIPS'}>],\n",
       "       [<AxesSubplot:title={'center':'Lat'}>,\n",
       "        <AxesSubplot:title={'center':'Long_'}>,\n",
       "        <AxesSubplot:title={'center':'Confirmed'}>],\n",
       "       [<AxesSubplot:title={'center':'Deaths'}>, <AxesSubplot:>,\n",
       "        <AxesSubplot:>]], dtype=object)"
      ]
     },
     "execution_count": 42,
     "metadata": {},
     "output_type": "execute_result"
    },
    {
     "data": {
      "image/png": "[encoded data removed]",
      "text/plain": [
       "<Figure size 1440x1080 with 9 Axes>"
      ]
     },
     "metadata": {
      "needs_background": "light"
     },
     "output_type": "display_data"
    }
   ],
   "source": [
    "#Check Distribution of numeric values\n",
    "usa_country_wise.hist(figsize=(20,15))"
   ]
  },
  {
   "cell_type": "markdown",
   "metadata": {
    "id": "2CxDKR5mRWVB"
   },
   "source": [
    "<h4> worldometer_data DataSet</h4>\n",
    "\n",
    "```\n",
    "# This is formatted as code\n",
    "```\n",
    "\n"
   ]
  },
  {
   "cell_type": "code",
   "execution_count": 43,
   "metadata": {
    "id": "x8NqVNfwRQhJ"
   },
   "outputs": [
    {
     "data": {
      "text/html": [
       "<div>\n",
       "<style scoped>\n",
       "    .dataframe tbody tr th:only-of-type {\n",
       "        vertical-align: middle;\n",
       "    }\n",
       "\n",
       "    .dataframe tbody tr th {\n",
       "        vertical-align: top;\n",
       "    }\n",
       "\n",
       "    .dataframe thead th {\n",
       "        text-align: right;\n",
       "    }\n",
       "</style>\n",
       "<table border=\"1\" class=\"dataframe\">\n",
       "  <thead>\n",
       "    <tr style=\"text-align: right;\">\n",
       "      <th></th>\n",
       "      <th>Country/Region</th>\n",
       "      <th>Continent</th>\n",
       "      <th>Population</th>\n",
       "      <th>TotalCases</th>\n",
       "      <th>NewCases</th>\n",
       "      <th>TotalDeaths</th>\n",
       "      <th>NewDeaths</th>\n",
       "      <th>TotalRecovered</th>\n",
       "      <th>NewRecovered</th>\n",
       "      <th>ActiveCases</th>\n",
       "      <th>Serious,Critical</th>\n",
       "      <th>Tot Cases/1M pop</th>\n",
       "      <th>Deaths/1M pop</th>\n",
       "      <th>TotalTests</th>\n",
       "      <th>Tests/1M pop</th>\n",
       "      <th>WHO Region</th>\n",
       "    </tr>\n",
       "  </thead>\n",
       "  <tbody>\n",
       "    <tr>\n",
       "      <th>0</th>\n",
       "      <td>USA</td>\n",
       "      <td>North America</td>\n",
       "      <td>3.311981e+08</td>\n",
       "      <td>5032179</td>\n",
       "      <td>NaN</td>\n",
       "      <td>162804.0</td>\n",
       "      <td>NaN</td>\n",
       "      <td>2576668.0</td>\n",
       "      <td>NaN</td>\n",
       "      <td>2292707.0</td>\n",
       "      <td>18296.0</td>\n",
       "      <td>15194.0</td>\n",
       "      <td>492.0</td>\n",
       "      <td>63139605.0</td>\n",
       "      <td>190640.0</td>\n",
       "      <td>Americas</td>\n",
       "    </tr>\n",
       "    <tr>\n",
       "      <th>1</th>\n",
       "      <td>Brazil</td>\n",
       "      <td>South America</td>\n",
       "      <td>2.127107e+08</td>\n",
       "      <td>2917562</td>\n",
       "      <td>NaN</td>\n",
       "      <td>98644.0</td>\n",
       "      <td>NaN</td>\n",
       "      <td>2047660.0</td>\n",
       "      <td>NaN</td>\n",
       "      <td>771258.0</td>\n",
       "      <td>8318.0</td>\n",
       "      <td>13716.0</td>\n",
       "      <td>464.0</td>\n",
       "      <td>13206188.0</td>\n",
       "      <td>62085.0</td>\n",
       "      <td>Americas</td>\n",
       "    </tr>\n",
       "    <tr>\n",
       "      <th>2</th>\n",
       "      <td>India</td>\n",
       "      <td>Asia</td>\n",
       "      <td>1.381345e+09</td>\n",
       "      <td>2025409</td>\n",
       "      <td>NaN</td>\n",
       "      <td>41638.0</td>\n",
       "      <td>NaN</td>\n",
       "      <td>1377384.0</td>\n",
       "      <td>NaN</td>\n",
       "      <td>606387.0</td>\n",
       "      <td>8944.0</td>\n",
       "      <td>1466.0</td>\n",
       "      <td>30.0</td>\n",
       "      <td>22149351.0</td>\n",
       "      <td>16035.0</td>\n",
       "      <td>South-EastAsia</td>\n",
       "    </tr>\n",
       "    <tr>\n",
       "      <th>3</th>\n",
       "      <td>Russia</td>\n",
       "      <td>Europe</td>\n",
       "      <td>1.459409e+08</td>\n",
       "      <td>871894</td>\n",
       "      <td>NaN</td>\n",
       "      <td>14606.0</td>\n",
       "      <td>NaN</td>\n",
       "      <td>676357.0</td>\n",
       "      <td>NaN</td>\n",
       "      <td>180931.0</td>\n",
       "      <td>2300.0</td>\n",
       "      <td>5974.0</td>\n",
       "      <td>100.0</td>\n",
       "      <td>29716907.0</td>\n",
       "      <td>203623.0</td>\n",
       "      <td>Europe</td>\n",
       "    </tr>\n",
       "    <tr>\n",
       "      <th>4</th>\n",
       "      <td>South Africa</td>\n",
       "      <td>Africa</td>\n",
       "      <td>5.938157e+07</td>\n",
       "      <td>538184</td>\n",
       "      <td>NaN</td>\n",
       "      <td>9604.0</td>\n",
       "      <td>NaN</td>\n",
       "      <td>387316.0</td>\n",
       "      <td>NaN</td>\n",
       "      <td>141264.0</td>\n",
       "      <td>539.0</td>\n",
       "      <td>9063.0</td>\n",
       "      <td>162.0</td>\n",
       "      <td>3149807.0</td>\n",
       "      <td>53044.0</td>\n",
       "      <td>Africa</td>\n",
       "    </tr>\n",
       "  </tbody>\n",
       "</table>\n",
       "</div>"
      ],
      "text/plain": [
       "  Country/Region      Continent    Population  TotalCases  NewCases  \\\n",
       "0            USA  North America  3.311981e+08     5032179       NaN   \n",
       "1         Brazil  South America  2.127107e+08     2917562       NaN   \n",
       "2          India           Asia  1.381345e+09     2025409       NaN   \n",
       "3         Russia         Europe  1.459409e+08      871894       NaN   \n",
       "4   South Africa         Africa  5.938157e+07      538184       NaN   \n",
       "\n",
       "   TotalDeaths  NewDeaths  TotalRecovered  NewRecovered  ActiveCases  \\\n",
       "0     162804.0        NaN       2576668.0           NaN    2292707.0   \n",
       "1      98644.0        NaN       2047660.0           NaN     771258.0   \n",
       "2      41638.0        NaN       1377384.0           NaN     606387.0   \n",
       "3      14606.0        NaN        676357.0           NaN     180931.0   \n",
       "4       9604.0        NaN        387316.0           NaN     141264.0   \n",
       "\n",
       "   Serious,Critical  Tot Cases/1M pop  Deaths/1M pop  TotalTests  \\\n",
       "0           18296.0           15194.0          492.0  63139605.0   \n",
       "1            8318.0           13716.0          464.0  13206188.0   \n",
       "2            8944.0            1466.0           30.0  22149351.0   \n",
       "3            2300.0            5974.0          100.0  29716907.0   \n",
       "4             539.0            9063.0          162.0   3149807.0   \n",
       "\n",
       "   Tests/1M pop      WHO Region  \n",
       "0      190640.0        Americas  \n",
       "1       62085.0        Americas  \n",
       "2       16035.0  South-EastAsia  \n",
       "3      203623.0          Europe  \n",
       "4       53044.0          Africa  "
      ]
     },
     "execution_count": 43,
     "metadata": {},
     "output_type": "execute_result"
    }
   ],
   "source": [
    "worldometer_data.head()"
   ]
  },
  {
   "cell_type": "code",
   "execution_count": 44,
   "metadata": {
    "id": "ZrOsVv7qRlC9"
   },
   "outputs": [
    {
     "name": "stdout",
     "output_type": "stream",
     "text": [
      "(209, 16)\n"
     ]
    }
   ],
   "source": [
    "#Shape of the dataset \n",
    "print(worldometer_data.shape)"
   ]
  },
  {
   "cell_type": "code",
   "execution_count": 45,
   "metadata": {
    "id": "Scevse1cRx23"
   },
   "outputs": [
    {
     "name": "stdout",
     "output_type": "stream",
     "text": [
      "<class 'pandas.core.frame.DataFrame'>\n",
      "RangeIndex: 209 entries, 0 to 208\n",
      "Data columns (total 16 columns):\n",
      " #   Column            Non-Null Count  Dtype  \n",
      "---  ------            --------------  -----  \n",
      " 0   Country/Region    209 non-null    object \n",
      " 1   Continent         208 non-null    object \n",
      " 2   Population        208 non-null    float64\n",
      " 3   TotalCases        209 non-null    int64  \n",
      " 4   NewCases          4 non-null      float64\n",
      " 5   TotalDeaths       188 non-null    float64\n",
      " 6   NewDeaths         3 non-null      float64\n",
      " 7   TotalRecovered    205 non-null    float64\n",
      " 8   NewRecovered      3 non-null      float64\n",
      " 9   ActiveCases       205 non-null    float64\n",
      " 10  Serious,Critical  122 non-null    float64\n",
      " 11  Tot Cases/1M pop  208 non-null    float64\n",
      " 12  Deaths/1M pop     187 non-null    float64\n",
      " 13  TotalTests        191 non-null    float64\n",
      " 14  Tests/1M pop      191 non-null    float64\n",
      " 15  WHO Region        184 non-null    object \n",
      "dtypes: float64(12), int64(1), object(3)\n",
      "memory usage: 26.2+ KB\n"
     ]
    }
   ],
   "source": [
    "#Information of the dataset \n",
    "worldometer_data.info()"
   ]
  },
  {
   "cell_type": "code",
   "execution_count": 46,
   "metadata": {
    "id": "nF7mk1cqR3GK"
   },
   "outputs": [
    {
     "data": {
      "text/plain": [
       "['Population',\n",
       " 'TotalCases',\n",
       " 'NewCases',\n",
       " 'TotalDeaths',\n",
       " 'NewDeaths',\n",
       " 'TotalRecovered',\n",
       " 'NewRecovered',\n",
       " 'ActiveCases',\n",
       " 'Serious,Critical',\n",
       " 'Tot Cases/1M pop',\n",
       " 'Deaths/1M pop',\n",
       " 'TotalTests',\n",
       " 'Tests/1M pop']"
      ]
     },
     "execution_count": 46,
     "metadata": {},
     "output_type": "execute_result"
    }
   ],
   "source": [
    "#Numeric Columns \n",
    "numeric_columns = list(worldometer_data.select_dtypes(include=np.number).columns)\n",
    "numeric_columns"
   ]
  },
  {
   "cell_type": "code",
   "execution_count": 47,
   "metadata": {
    "id": "_Yrbvw0uR8cL"
   },
   "outputs": [
    {
     "name": "stdout",
     "output_type": "stream",
     "text": [
      "Continent has ['North America' 'South America' 'Asia' 'Europe' 'Africa'\n",
      " 'Australia/Oceania' nan] values\n",
      "\n",
      "NewCases has [  nan 6590. 1282.   20.   30.] values\n",
      "\n",
      "NewDeaths has [ nan 819.  80.   1.] values\n",
      "\n",
      "NewRecovered has [  nan 4140.  936.   42.] values\n",
      "\n",
      "WHO Region has ['Americas' 'South-EastAsia' 'Europe' 'Africa' 'EasternMediterranean'\n",
      " 'WesternPacific' nan] values\n",
      "\n"
     ]
    }
   ],
   "source": [
    "# Columns with unique count less than equal to 10 alongwith their values\n",
    "dict_unique_count = {\n",
    "    'Column' : [],\n",
    "    'Count' : []\n",
    "}\n",
    "\n",
    "for col in worldometer_data.columns:\n",
    "    dict_unique_count['Column'].append(col)\n",
    "    dict_unique_count['Count'].append(worldometer_data[col].nunique())\n",
    "    \n",
    "df_unique = pd.DataFrame(dict_unique_count)\n",
    "df_unique = df_unique[df_unique['Count'] <= 10]\n",
    "\n",
    "for col in df_unique['Column']:\n",
    "    print(f\"{col} has {worldometer_data[col].unique()} values\\n\")\n"
   ]
  },
  {
   "cell_type": "code",
   "execution_count": 48,
   "metadata": {
    "id": "fNBEKUjISCmh"
   },
   "outputs": [
    {
     "name": "stdout",
     "output_type": "stream",
     "text": [
      "Duplicate count :  0\n"
     ]
    }
   ],
   "source": [
    "#Checking duplicates \n",
    "Duplicated = worldometer_data[worldometer_data.duplicated(keep='first')]\n",
    "print('Duplicate count : ', Duplicated.shape[0])\n",
    "worldometer_data = worldometer_data.drop_duplicates(inplace=False)"
   ]
  },
  {
   "cell_type": "code",
   "execution_count": 49,
   "metadata": {
    "id": "H6mf86PcSG81"
   },
   "outputs": [
    {
     "name": "stdout",
     "output_type": "stream",
     "text": [
      "                  Count      % age\n",
      "Country/Region        0   0.000000\n",
      "TotalCases            0   0.000000\n",
      "Continent             1   0.478469\n",
      "Population            1   0.478469\n",
      "Tot Cases/1M pop      1   0.478469\n",
      "TotalRecovered        4   1.913876\n",
      "ActiveCases           4   1.913876\n",
      "TotalTests           18   8.612440\n",
      "Tests/1M pop         18   8.612440\n",
      "TotalDeaths          21  10.047847\n",
      "Deaths/1M pop        22  10.526316\n",
      "WHO Region           25  11.961722\n",
      "Serious,Critical     87  41.626794\n",
      "NewCases            205  98.086124\n",
      "NewDeaths           206  98.564593\n",
      "NewRecovered        206  98.564593\n"
     ]
    }
   ],
   "source": [
    "#Check Null values \n",
    "dft = pd.DataFrame({ 'Count': worldometer_data.isnull().sum(), '% age': worldometer_data.isnull().sum() * 100 /worldometer_data.shape[0] })\n",
    "print(dft.sort_values(by=['Count']))"
   ]
  },
  {
   "cell_type": "code",
   "execution_count": 50,
   "metadata": {
    "id": "ZeF6QXlkSMLN"
   },
   "outputs": [
    {
     "data": {
      "text/plain": [
       "array([[<AxesSubplot:title={'center':'Population'}>,\n",
       "        <AxesSubplot:title={'center':'TotalCases'}>,\n",
       "        <AxesSubplot:title={'center':'NewCases'}>,\n",
       "        <AxesSubplot:title={'center':'TotalDeaths'}>],\n",
       "       [<AxesSubplot:title={'center':'NewDeaths'}>,\n",
       "        <AxesSubplot:title={'center':'TotalRecovered'}>,\n",
       "        <AxesSubplot:title={'center':'NewRecovered'}>,\n",
       "        <AxesSubplot:title={'center':'ActiveCases'}>],\n",
       "       [<AxesSubplot:title={'center':'Serious,Critical'}>,\n",
       "        <AxesSubplot:title={'center':'Tot Cases/1M pop'}>,\n",
       "        <AxesSubplot:title={'center':'Deaths/1M pop'}>,\n",
       "        <AxesSubplot:title={'center':'TotalTests'}>],\n",
       "       [<AxesSubplot:title={'center':'Tests/1M pop'}>, <AxesSubplot:>,\n",
       "        <AxesSubplot:>, <AxesSubplot:>]], dtype=object)"
      ]
     },
     "execution_count": 50,
     "metadata": {},
     "output_type": "execute_result"
    },
    {
     "data": {
      "image/png": "[encoded data removed]",
      "text/plain": [
       "<Figure size 1440x1080 with 16 Axes>"
      ]
     },
     "metadata": {
      "needs_background": "light"
     },
     "output_type": "display_data"
    }
   ],
   "source": [
    "#Check distribution of numeric values \n",
    "worldometer_data.hist(figsize=(20,15))"
   ]
  },
  {
   "cell_type": "code",
   "execution_count": null,
   "metadata": {},
   "outputs": [],
   "source": []
  }
 ],
 "metadata": {
  "colab": {
   "provenance": []
  },
  "kernelspec": {
   "display_name": "Python 3 (ipykernel)",
   "language": "python",
   "name": "python3"
  },
  "language_info": {
   "codemirror_mode": {
    "name": "ipython",
    "version": 3
   },
   "file_extension": ".py",
   "mimetype": "text/x-python",
   "name": "python",
   "nbconvert_exporter": "python",
   "pygments_lexer": "ipython3",
   "version": "3.9.7"
  }
 },
 "nbformat": 4,
 "nbformat_minor": 1
}
